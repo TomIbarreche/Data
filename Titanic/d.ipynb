{
 "cells": [
  {
   "cell_type": "code",
   "execution_count": 1,
   "id": "cbf7a484",
   "metadata": {
    "scrolled": true
   },
   "outputs": [
    {
     "data": {
      "text/html": [
       "<div>\n",
       "<style scoped>\n",
       "    .dataframe tbody tr th:only-of-type {\n",
       "        vertical-align: middle;\n",
       "    }\n",
       "\n",
       "    .dataframe tbody tr th {\n",
       "        vertical-align: top;\n",
       "    }\n",
       "\n",
       "    .dataframe thead th {\n",
       "        text-align: right;\n",
       "    }\n",
       "</style>\n",
       "<table border=\"1\" class=\"dataframe\">\n",
       "  <thead>\n",
       "    <tr style=\"text-align: right;\">\n",
       "      <th></th>\n",
       "      <th>pclass</th>\n",
       "      <th>survived</th>\n",
       "      <th>name</th>\n",
       "      <th>sex</th>\n",
       "      <th>age</th>\n",
       "      <th>sibsp</th>\n",
       "      <th>parch</th>\n",
       "      <th>ticket</th>\n",
       "      <th>fare</th>\n",
       "      <th>cabin</th>\n",
       "      <th>embarked</th>\n",
       "      <th>boat</th>\n",
       "      <th>body</th>\n",
       "      <th>home.dest</th>\n",
       "    </tr>\n",
       "  </thead>\n",
       "  <tbody>\n",
       "    <tr>\n",
       "      <th>0</th>\n",
       "      <td>1</td>\n",
       "      <td>1</td>\n",
       "      <td>Allen, Miss. Elisabeth Walton</td>\n",
       "      <td>female</td>\n",
       "      <td>29.0000</td>\n",
       "      <td>0</td>\n",
       "      <td>0</td>\n",
       "      <td>24160</td>\n",
       "      <td>211.3375</td>\n",
       "      <td>B5</td>\n",
       "      <td>S</td>\n",
       "      <td>2</td>\n",
       "      <td>NaN</td>\n",
       "      <td>St Louis, MO</td>\n",
       "    </tr>\n",
       "    <tr>\n",
       "      <th>1</th>\n",
       "      <td>1</td>\n",
       "      <td>1</td>\n",
       "      <td>Allison, Master. Hudson Trevor</td>\n",
       "      <td>male</td>\n",
       "      <td>0.9167</td>\n",
       "      <td>1</td>\n",
       "      <td>2</td>\n",
       "      <td>113781</td>\n",
       "      <td>151.5500</td>\n",
       "      <td>C22 C26</td>\n",
       "      <td>S</td>\n",
       "      <td>11</td>\n",
       "      <td>NaN</td>\n",
       "      <td>Montreal, PQ / Chesterville, ON</td>\n",
       "    </tr>\n",
       "    <tr>\n",
       "      <th>2</th>\n",
       "      <td>1</td>\n",
       "      <td>0</td>\n",
       "      <td>Allison, Miss. Helen Loraine</td>\n",
       "      <td>female</td>\n",
       "      <td>2.0000</td>\n",
       "      <td>1</td>\n",
       "      <td>2</td>\n",
       "      <td>113781</td>\n",
       "      <td>151.5500</td>\n",
       "      <td>C22 C26</td>\n",
       "      <td>S</td>\n",
       "      <td>NaN</td>\n",
       "      <td>NaN</td>\n",
       "      <td>Montreal, PQ / Chesterville, ON</td>\n",
       "    </tr>\n",
       "    <tr>\n",
       "      <th>3</th>\n",
       "      <td>1</td>\n",
       "      <td>0</td>\n",
       "      <td>Allison, Mr. Hudson Joshua Creighton</td>\n",
       "      <td>male</td>\n",
       "      <td>30.0000</td>\n",
       "      <td>1</td>\n",
       "      <td>2</td>\n",
       "      <td>113781</td>\n",
       "      <td>151.5500</td>\n",
       "      <td>C22 C26</td>\n",
       "      <td>S</td>\n",
       "      <td>NaN</td>\n",
       "      <td>135.0</td>\n",
       "      <td>Montreal, PQ / Chesterville, ON</td>\n",
       "    </tr>\n",
       "    <tr>\n",
       "      <th>4</th>\n",
       "      <td>1</td>\n",
       "      <td>0</td>\n",
       "      <td>Allison, Mrs. Hudson J C (Bessie Waldo Daniels)</td>\n",
       "      <td>female</td>\n",
       "      <td>25.0000</td>\n",
       "      <td>1</td>\n",
       "      <td>2</td>\n",
       "      <td>113781</td>\n",
       "      <td>151.5500</td>\n",
       "      <td>C22 C26</td>\n",
       "      <td>S</td>\n",
       "      <td>NaN</td>\n",
       "      <td>NaN</td>\n",
       "      <td>Montreal, PQ / Chesterville, ON</td>\n",
       "    </tr>\n",
       "  </tbody>\n",
       "</table>\n",
       "</div>"
      ],
      "text/plain": [
       "   pclass  survived                                             name     sex  \\\n",
       "0       1         1                    Allen, Miss. Elisabeth Walton  female   \n",
       "1       1         1                   Allison, Master. Hudson Trevor    male   \n",
       "2       1         0                     Allison, Miss. Helen Loraine  female   \n",
       "3       1         0             Allison, Mr. Hudson Joshua Creighton    male   \n",
       "4       1         0  Allison, Mrs. Hudson J C (Bessie Waldo Daniels)  female   \n",
       "\n",
       "       age  sibsp  parch  ticket      fare    cabin embarked boat   body  \\\n",
       "0  29.0000      0      0   24160  211.3375       B5        S    2    NaN   \n",
       "1   0.9167      1      2  113781  151.5500  C22 C26        S   11    NaN   \n",
       "2   2.0000      1      2  113781  151.5500  C22 C26        S  NaN    NaN   \n",
       "3  30.0000      1      2  113781  151.5500  C22 C26        S  NaN  135.0   \n",
       "4  25.0000      1      2  113781  151.5500  C22 C26        S  NaN    NaN   \n",
       "\n",
       "                         home.dest  \n",
       "0                     St Louis, MO  \n",
       "1  Montreal, PQ / Chesterville, ON  \n",
       "2  Montreal, PQ / Chesterville, ON  \n",
       "3  Montreal, PQ / Chesterville, ON  \n",
       "4  Montreal, PQ / Chesterville, ON  "
      ]
     },
     "execution_count": 1,
     "metadata": {},
     "output_type": "execute_result"
    }
   ],
   "source": [
    "import pandas as pd\n",
    "from math import *\n",
    "import matplotlib.pyplot as plt\n",
    "import numpy as np\n",
    "titanic_df = pd.read_csv(\"titanic.csv\")\n",
    "titanic_df.head()"
   ]
  },
  {
   "cell_type": "code",
   "execution_count": 2,
   "id": "6c9db353",
   "metadata": {},
   "outputs": [
    {
     "data": {
      "text/plain": [
       "pclass       False\n",
       "survived     False\n",
       "name         False\n",
       "sex          False\n",
       "age           True\n",
       "sibsp        False\n",
       "parch        False\n",
       "ticket       False\n",
       "fare          True\n",
       "cabin         True\n",
       "embarked      True\n",
       "boat          True\n",
       "body          True\n",
       "home.dest     True\n",
       "dtype: bool"
      ]
     },
     "execution_count": 2,
     "metadata": {},
     "output_type": "execute_result"
    }
   ],
   "source": [
    "titanic_df.isna().any()\n"
   ]
  },
  {
   "cell_type": "markdown",
   "id": "ea58c377",
   "metadata": {},
   "source": [
    "Il existe des données incomplête pour les colonnes suivantes: age, fare, cabin, embarked, boat, body et home.dest"
   ]
  },
  {
   "cell_type": "code",
   "execution_count": 3,
   "id": "fd674966",
   "metadata": {},
   "outputs": [
    {
     "data": {
      "text/plain": [
       "263"
      ]
     },
     "execution_count": 3,
     "metadata": {},
     "output_type": "execute_result"
    }
   ],
   "source": [
    "titanic_df[\"age\"].isna().sum()"
   ]
  },
  {
   "cell_type": "markdown",
   "id": "5cd8ac29",
   "metadata": {},
   "source": [
    "263 lignes n'ont pas l'age renseigné."
   ]
  },
  {
   "cell_type": "code",
   "execution_count": 4,
   "id": "7b3d787e",
   "metadata": {},
   "outputs": [
    {
     "data": {
      "text/plain": [
       "mean        0.381971\n",
       "count    1309.000000\n",
       "sum       500.000000\n",
       "Name: survived, dtype: float64"
      ]
     },
     "execution_count": 4,
     "metadata": {},
     "output_type": "execute_result"
    }
   ],
   "source": [
    "titanic_df[\"survived\"].agg([np.mean, pd.Series.count, np.sum])"
   ]
  },
  {
   "cell_type": "markdown",
   "id": "f123ff73",
   "metadata": {},
   "source": [
    "Sur 1309 personnes montées à bords 500 d'entres elles ont survécu. Soit environs 38% des effectifs."
   ]
  },
  {
   "cell_type": "markdown",
   "id": "44e27552",
   "metadata": {},
   "source": [
    "Pour la suite des opérations statistiques nous n'allons pas prendre en compte les observations où l'age n'est pas renseigné"
   ]
  },
  {
   "cell_type": "code",
   "execution_count": 5,
   "id": "d6202d9f",
   "metadata": {},
   "outputs": [],
   "source": [
    "titanic_df.dropna(subset = [\"age\"], inplace=True)"
   ]
  },
  {
   "cell_type": "code",
   "execution_count": 6,
   "id": "561d33ca",
   "metadata": {
    "scrolled": false
   },
   "outputs": [
    {
     "data": {
      "text/plain": [
       "survived\n",
       "0    30.545\n",
       "1    28.918\n",
       "Name: age, dtype: float64"
      ]
     },
     "execution_count": 6,
     "metadata": {},
     "output_type": "execute_result"
    }
   ],
   "source": [
    "round(titanic_df.groupby(\"survived\")[\"age\"].mean(),3)\n"
   ]
  },
  {
   "cell_type": "markdown",
   "id": "b6688844",
   "metadata": {},
   "source": [
    "L'age moyen des survivants est dond de 28.918 ans tandis que celui des personnes décédées est de 30.545"
   ]
  },
  {
   "cell_type": "code",
   "execution_count": 7,
   "id": "db54359e",
   "metadata": {},
   "outputs": [
    {
     "data": {
      "text/plain": [
       "36.686"
      ]
     },
     "execution_count": 7,
     "metadata": {},
     "output_type": "execute_result"
    }
   ],
   "source": [
    "round(titanic_df[\"fare\"].mean(),3)"
   ]
  },
  {
   "cell_type": "markdown",
   "id": "fb85d79e",
   "metadata": {},
   "source": [
    "En moyenne le ticket à couté 36.686$ par passagers"
   ]
  },
  {
   "cell_type": "code",
   "execution_count": 8,
   "id": "47274e20",
   "metadata": {},
   "outputs": [
    {
     "data": {
      "text/plain": [
       "male      0.629063\n",
       "female    0.370937\n",
       "Name: sex, dtype: float64"
      ]
     },
     "execution_count": 8,
     "metadata": {},
     "output_type": "execute_result"
    }
   ],
   "source": [
    "titanic_df[\"sex\"].value_counts(normalize=True)"
   ]
  },
  {
   "cell_type": "markdown",
   "id": "34ecc518",
   "metadata": {},
   "source": [
    "Il y avait sur le bateau 62.9% d'hommes et 37% de femmes.\n",
    "Voici leur répartition vis à vis de leur survie"
   ]
  },
  {
   "cell_type": "code",
   "execution_count": 9,
   "id": "acacaee5",
   "metadata": {},
   "outputs": [
    {
     "name": "stdout",
     "output_type": "stream",
     "text": [
      "sex\n",
      "female    75.257732\n",
      "male      20.516717\n",
      "Name: survived, dtype: float64\n"
     ]
    },
    {
     "data": {
      "text/plain": [
       "Text(0, 0.5, '% de survivants')"
      ]
     },
     "execution_count": 9,
     "metadata": {},
     "output_type": "execute_result"
    },
    {
     "data": {
      "image/png": "[encoded data removed]",
      "text/plain": [
       "<Figure size 432x288 with 1 Axes>"
      ]
     },
     "metadata": {
      "needs_background": "light"
     },
     "output_type": "display_data"
    }
   ],
   "source": [
    "deces_en_fonction_du_sexe = (titanic_df.groupby(\"sex\")[\"survived\"].mean()*100)\n",
    "print(deces_en_fonction_du_sexe)\n",
    "deces_en_fonction_du_sexe.plot(kind=\"bar\")\n",
    "plt.title(\"Pourcentage de survie en fonction du sexe\")\n",
    "plt.ylabel(\"% de survivants\")"
   ]
  },
  {
   "cell_type": "markdown",
   "id": "aa69cd99",
   "metadata": {},
   "source": [
    "Ainsi 75.25% des femmes ont survécu contre seulement 20.51% chez les hommes.\n",
    "Ramené au nombre total de passages cela nous donne: "
   ]
  },
  {
   "cell_type": "code",
   "execution_count": 10,
   "id": "54e1c818",
   "metadata": {},
   "outputs": [
    {
     "name": "stdout",
     "output_type": "stream",
     "text": [
      "12.906\n",
      "27.916\n"
     ]
    }
   ],
   "source": [
    "chance_de_survie_d_un_homme = (titanic_df[titanic_df[\"sex\"] == \"male\"]['survived'].value_counts()[1]/len(titanic_df))*100\n",
    "chance_de_survie_d_une_femme = (titanic_df[titanic_df[\"sex\"] == \"female\"]['survived'].value_counts()[1]/len(titanic_df))*100\n",
    "\n",
    "print(round(chance_de_survie_d_un_homme,3))\n",
    "print(round(chance_de_survie_d_une_femme,3))"
   ]
  },
  {
   "cell_type": "code",
   "execution_count": 11,
   "id": "6d5a6a7e",
   "metadata": {},
   "outputs": [
    {
     "data": {
      "text/plain": [
       "<AxesSubplot:xlabel='age'>"
      ]
     },
     "execution_count": 11,
     "metadata": {},
     "output_type": "execute_result"
    },
    {
     "data": {
      "image/png": "[encoded data removed]",
      "text/plain": [
       "<Figure size 432x288 with 1 Axes>"
      ]
     },
     "metadata": {
      "needs_background": "light"
     },
     "output_type": "display_data"
    }
   ],
   "source": [
    "repartition_des_deces_en_fonction_de_l_age = titanic_df.groupby(\"age\")[\"survived\"].mean()\n",
    "repartition_des_deces_en_fonction_de_l_age.plot(kind=\"line\")"
   ]
  },
  {
   "cell_type": "markdown",
   "id": "23520727",
   "metadata": {},
   "source": [
    "Etant donné la valeur continue de l'age des passagers il nous faut regrouper par tranche d'age pour plus de lisibilité."
   ]
  },
  {
   "cell_type": "code",
   "execution_count": 51,
   "id": "d56fd1eb",
   "metadata": {},
   "outputs": [
    {
     "name": "stdout",
     "output_type": "stream",
     "text": [
      "            percent\n",
      "age                \n",
      "(0, 10]   58.139535\n",
      "(10, 20]  39.506173\n",
      "(20, 30]  37.119114\n",
      "(30, 40]  42.380952\n",
      "(40, 50]  39.393939\n",
      "(50, 60]  48.387097\n",
      "(60, 70]  22.222222\n",
      "(70, 80]  33.333333\n"
     ]
    },
    {
     "data": {
      "text/plain": [
       "Text(0, 0.5, '% de survivants')"
      ]
     },
     "execution_count": 51,
     "metadata": {},
     "output_type": "execute_result"
    },
    {
     "data": {
      "image/png": "[encoded data removed]",
      "text/plain": [
       "<Figure size 432x288 with 1 Axes>"
      ]
     },
     "metadata": {
      "needs_background": "light"
     },
     "output_type": "display_data"
    }
   ],
   "source": [
    "def percent(column):     return column.mean() *100\n",
    "\n",
    "mort_en_fonction_de_l_age = titanic_df.groupby(pd.cut(titanic_df[\"age\"], np.arange(0, 81,10)))[\"survived\"].agg([percent])\n",
    "print(mort_en_fonction_de_l_age)\n",
    "mort_en_fonction_de_l_age.plot(kind=\"line\")\n",
    "plt.title(\"Pourcentage de survivants par tranche d'age\")\n",
    "plt.ylabel(\"% de survivants\")"
   ]
  },
  {
   "cell_type": "markdown",
   "id": "1c43296c",
   "metadata": {},
   "source": [
    "On peut voir que la répartition en tranche d'age permet plus facilement de prendre la mesure de la répartition des survivants en fonction de leur age. Ainsi à part 0-10ans qui ont eu de meilleur chance de survie et les 60-70 ans qui à l'inverse ont eu plus de décès la répartition est plutôt équitable"
   ]
  },
  {
   "cell_type": "markdown",
   "id": "67b934f0",
   "metadata": {},
   "source": [
    "Voyons maintenant la même répartition mais en prenant également en compte le sexe des passagers"
   ]
  },
  {
   "cell_type": "code",
   "execution_count": 29,
   "id": "62569408",
   "metadata": {},
   "outputs": [
    {
     "data": {
      "text/plain": [
       "Text(0, 0.5, '% des survivants')"
      ]
     },
     "execution_count": 29,
     "metadata": {},
     "output_type": "execute_result"
    },
    {
     "data": {
      "image/png": "[encoded data removed]",
      "text/plain": [
       "<Figure size 432x288 with 1 Axes>"
      ]
     },
     "metadata": {
      "needs_background": "light"
     },
     "output_type": "display_data"
    }
   ],
   "source": [
    "female_df = titanic_df[titanic_df[\"sex\"] == \"female\"]\n",
    "mean_survived_female_df_by_age = female_df.groupby(pd.cut(female_df[\"age\"], np.arange(0, 81,10)))[\"survived\"].mean() *100\n",
    "male_df = titanic_df[titanic_df[\"sex\"] == \"male\"]\n",
    "mean_survived_male_df_by_age = male_df.groupby(pd.cut(male_df[\"age\"], np.arange(0, 81,10)))[\"survived\"].mean() *100\n",
    "ax = mean_survived_male_df_by_age.plot(kind=\"bar\")\n",
    "\n",
    "\n",
    "mean_survived_female_df_by_age.plot(ax=ax, kind=\"bar\", alpha=0.5)\n",
    "plt.legend([\"Homme\",\"Femme\"])\n",
    "plt.ylabel(\"% des survivants\")"
   ]
  },
  {
   "cell_type": "markdown",
   "id": "abb8b902",
   "metadata": {},
   "source": [
    "On observe que seuls les passagers de -10ans ont eu un pourcentage de survie à peu près équivalent.\n",
    "Pour les femmes ont observe que plus l'age augmente plus le pourcentage de survivants est élevé.\n",
    "Pour les hommes l'age n'influence pas le nombre de survivants"
   ]
  },
  {
   "cell_type": "code",
   "execution_count": 68,
   "id": "a4895504",
   "metadata": {},
   "outputs": [
    {
     "ename": "SyntaxError",
     "evalue": "invalid syntax (Temp/ipykernel_4832/2854336916.py, line 3)",
     "output_type": "error",
     "traceback": [
      "\u001b[1;36m  File \u001b[1;32m\"C:\\Users\\Tom\\AppData\\Local\\Temp/ipykernel_4832/2854336916.py\"\u001b[1;36m, line \u001b[1;32m3\u001b[0m\n\u001b[1;33m    mean_survived_male_df_by_age = male_df.groupby(pd.cut(male_df[\"age\"], np.arange(0, 81,10)))[\"survived\"].filter(lambda group: group.survived =1 X).agg([coin])\u001b[0m\n\u001b[1;37m                                                                                                                                                   ^\u001b[0m\n\u001b[1;31mSyntaxError\u001b[0m\u001b[1;31m:\u001b[0m invalid syntax\n"
     ]
    }
   ],
   "source": [
    "def coin(column):     return len(column[\"survived\"]  == 1)\n",
    "male_df = titanic_df[titanic_df[\"sex\"] == \"male\"]\n",
    "mean_survived_male_df_by_age = male_df.groupby(pd.cut(male_df[\"age\"], np.arange(0, 81,10)))[\"survived\"].filter(lambda group: group.survived =1 X).agg([coin])\n",
    "print(mean_survived_male_df_by_age)"
   ]
  },
  {
   "cell_type": "code",
   "execution_count": 57,
   "id": "2bbd6ffe",
   "metadata": {},
   "outputs": [
    {
     "name": "stderr",
     "output_type": "stream",
     "text": [
      "C:\\Users\\Tom\\AppData\\Local\\Temp/ipykernel_4832/850077088.py:1: FutureWarning: Dropping of nuisance columns in DataFrame reductions (with 'numeric_only=None') is deprecated; in a future version this will raise TypeError.  Select only valid columns before calling the reduction.\n",
      "  titanic_df[titanic_df[\"age\"] <= 10].sum()\n"
     ]
    },
    {
     "data": {
      "text/plain": [
       "pclass                                                    228\n",
       "survived                                                   50\n",
       "name        Allison, Master. Hudson TrevorAllison, Miss. H...\n",
       "sex         malefemalemalemalemalefemalemalefemalemalemale...\n",
       "age                                                  370.1667\n",
       "sibsp                                                     147\n",
       "parch                                                     121\n",
       "ticket      1137811137813363816966230136230136248738C.A. 3...\n",
       "fare                                                2531.4998\n",
       "embarked    SSSCSSSSSSSSSCCCSSSSSSSSSSSSSSSSSSSCCCCCSSSSSS...\n",
       "body                                                      4.0\n",
       "dtype: object"
      ]
     },
     "execution_count": 57,
     "metadata": {},
     "output_type": "execute_result"
    }
   ],
   "source": [
    "titanic_df[titanic_df[\"age\"] <= 10].sum()"
   ]
  },
  {
   "cell_type": "code",
   "execution_count": null,
   "id": "eb48445f",
   "metadata": {},
   "outputs": [],
   "source": []
  }
 ],
 "metadata": {
  "kernelspec": {
   "display_name": "Python 3 (ipykernel)",
   "language": "python",
   "name": "python3"
  },
  "language_info": {
   "codemirror_mode": {
    "name": "ipython",
    "version": 3
   },
   "file_extension": ".py",
   "mimetype": "text/x-python",
   "name": "python",
   "nbconvert_exporter": "python",
   "pygments_lexer": "ipython3",
   "version": "3.8.2"
  }
 },
 "nbformat": 4,
 "nbformat_minor": 5
}
