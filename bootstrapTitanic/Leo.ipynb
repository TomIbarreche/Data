{
 "cells": [
  {
   "cell_type": "code",
   "execution_count": 91,
   "id": "85a28b9c",
   "metadata": {},
   "outputs": [
    {
     "name": "stderr",
     "output_type": "stream",
     "text": [
      "C:\\Python\\Python39\\lib\\site-packages\\IPython\\core\\interactiveshell.py:3441: FutureWarning: The error_bad_lines argument has been deprecated and will be removed in a future version.\n",
      "\n",
      "\n",
      "  exec(code_obj, self.user_global_ns, self.user_ns)\n"
     ]
    }
   ],
   "source": [
    "import pandas as pd\n",
    "import numpy as np\n",
    "data = pd.read_csv('ss.csv', error_bad_lines=False, encoding='latin-1')\n"
   ]
  },
  {
   "cell_type": "code",
   "execution_count": 98,
   "id": "983829e2",
   "metadata": {},
   "outputs": [
    {
     "name": "stdout",
     "output_type": "stream",
     "text": [
      "Index(['Origine: nom UO', 'Bassin de collecte', 'Acteur: nom UO',\n",
      "       'Type de transaction', 'Sous type de transaction', 'Contenant',\n",
      "       'Prix de base', 'Indice', 'Date prix de base', 'Date de debut',\n",
      "       'Date de fin', 'Unnamed: 11', 'Unnamed: 12'],\n",
      "      dtype='object')\n"
     ]
    }
   ],
   "source": [
    "data = data.rename(columns={'ï»¿Origine: nom UO': 'Origine: nom UO'})\n",
    "print(data.columns)\n"
   ]
  },
  {
   "cell_type": "code",
   "execution_count": 135,
   "id": "bcf8569e",
   "metadata": {},
   "outputs": [
    {
     "name": "stdout",
     "output_type": "stream",
     "text": [
      "                                             Prix de base\n",
      "Acteur: nom UO                                           \n",
      "PAV - PRAXY_EPUR CENTRE - CUSSET                        1\n",
      "PAV - PRAXY_BOURGOGNE RECYCLAGE LONGVIC                 1\n",
      "PAV - PAPREC Grand Ile De France                        1\n",
      "PAV - SOTREMA - ROSNY SUR SEINE                         1\n",
      "PAV - PAPREC - AGENCE DESPLAT                           1\n",
      "...                                                   ...\n",
      "TRSP - CENTRE PARISIEN DE RECYCLAGE                   510\n",
      "TRSP - PRAXY CENTRE                                   515\n",
      "TRSP - CITRAVAL - ROMBAS                              597\n",
      "TRSP - BOURGOGNE RECYCLAGE - LONGVIC                  604\n",
      "TRSP2123-BRANGEON TRANSPORTS ET LOGISTIQUE            613\n",
      "\n",
      "[628 rows x 1 columns]\n"
     ]
    }
   ],
   "source": [
    "rr = data.groupby([\"Acteur: nom UO\"])[[\"Prix de base\"]].agg(np.size)\n",
    "print(rr.sort_values(\"Prix de base\"))\n"
   ]
  },
  {
   "cell_type": "code",
   "execution_count": 130,
   "id": "df41c9b1",
   "metadata": {},
   "outputs": [
    {
     "name": "stdout",
     "output_type": "stream",
     "text": [
      "42.847133757961785\n"
     ]
    }
   ],
   "source": [
    "print(rr[\"Prix de base\"].mean())"
   ]
  },
  {
   "cell_type": "code",
   "execution_count": 148,
   "id": "7a056929",
   "metadata": {},
   "outputs": [
    {
     "name": "stdout",
     "output_type": "stream",
     "text": [
      "Index(['Nom', 'Type de Source', 'Origine: nom UO', 'Bassin de collecte',\n",
      "       'Acteur: nom UO', 'Type de transaction', 'Sous type de transaction',\n",
      "       'Contenant', 'Priorite', 'Date de debut', 'Date de fin',\n",
      "       'Matieres dangereuses', 'Chaine materiautheque'],\n",
      "      dtype='object')\n"
     ]
    },
    {
     "name": "stderr",
     "output_type": "stream",
     "text": [
      "b'Skipping line 1279: expected 13 fields, saw 14\\nSkipping line 1282: expected 13 fields, saw 14\\nSkipping line 1287: expected 13 fields, saw 14\\nSkipping line 1292: expected 13 fields, saw 14\\nSkipping line 1298: expected 13 fields, saw 14\\nSkipping line 1299: expected 13 fields, saw 14\\nSkipping line 1304: expected 13 fields, saw 14\\nSkipping line 1309: expected 13 fields, saw 14\\nSkipping line 1313: expected 13 fields, saw 14\\nSkipping line 1318: expected 13 fields, saw 14\\nSkipping line 1322: expected 13 fields, saw 14\\nSkipping line 1325: expected 13 fields, saw 14\\nSkipping line 1329: expected 13 fields, saw 14\\nSkipping line 1333: expected 13 fields, saw 14\\nSkipping line 1338: expected 13 fields, saw 14\\nSkipping line 1340: expected 13 fields, saw 14\\nSkipping line 1347: expected 13 fields, saw 14\\nSkipping line 1350: expected 13 fields, saw 14\\nSkipping line 1355: expected 13 fields, saw 14\\nSkipping line 1356: expected 13 fields, saw 14\\nSkipping line 1363: expected 13 fields, saw 14\\nSkipping line 1367: expected 13 fields, saw 14\\nSkipping line 1370: expected 13 fields, saw 14\\nSkipping line 1373: expected 13 fields, saw 14\\nSkipping line 1377: expected 13 fields, saw 14\\nSkipping line 1382: expected 13 fields, saw 14\\nSkipping line 1387: expected 13 fields, saw 14\\nSkipping line 1393: expected 13 fields, saw 14\\nSkipping line 1399: expected 13 fields, saw 14\\nSkipping line 1403: expected 13 fields, saw 14\\nSkipping line 1407: expected 13 fields, saw 14\\nSkipping line 1409: expected 13 fields, saw 14\\nSkipping line 1414: expected 13 fields, saw 14\\nSkipping line 1417: expected 13 fields, saw 14\\nSkipping line 1420: expected 13 fields, saw 14\\nSkipping line 1424: expected 13 fields, saw 14\\nSkipping line 1431: expected 13 fields, saw 14\\nSkipping line 1432: expected 13 fields, saw 14\\nSkipping line 1437: expected 13 fields, saw 14\\nSkipping line 1443: expected 13 fields, saw 14\\nSkipping line 1445: expected 13 fields, saw 14\\nSkipping line 1454: expected 13 fields, saw 14\\nSkipping line 1457: expected 13 fields, saw 14\\nSkipping line 1461: expected 13 fields, saw 14\\nSkipping line 1465: expected 13 fields, saw 14\\nSkipping line 1468: expected 13 fields, saw 14\\nSkipping line 1474: expected 13 fields, saw 14\\nSkipping line 1478: expected 13 fields, saw 14\\nSkipping line 1484: expected 13 fields, saw 14\\nSkipping line 1487: expected 13 fields, saw 14\\nSkipping line 1490: expected 13 fields, saw 14\\nSkipping line 1497: expected 13 fields, saw 14\\nSkipping line 1500: expected 13 fields, saw 14\\nSkipping line 1504: expected 13 fields, saw 14\\nSkipping line 1507: expected 13 fields, saw 14\\nSkipping line 1513: expected 13 fields, saw 14\\nSkipping line 1520: expected 13 fields, saw 14\\nSkipping line 1528: expected 13 fields, saw 14\\nSkipping line 1534: expected 13 fields, saw 14\\nSkipping line 1536: expected 13 fields, saw 14\\nSkipping line 1543: expected 13 fields, saw 14\\nSkipping line 1545: expected 13 fields, saw 14\\nSkipping line 1549: expected 13 fields, saw 14\\nSkipping line 1554: expected 13 fields, saw 14\\nSkipping line 1556: expected 13 fields, saw 14\\nSkipping line 1564: expected 13 fields, saw 14\\nSkipping line 1568: expected 13 fields, saw 14\\nSkipping line 1571: expected 13 fields, saw 14\\nSkipping line 1578: expected 13 fields, saw 14\\nSkipping line 1581: expected 13 fields, saw 14\\nSkipping line 1586: expected 13 fields, saw 14\\nSkipping line 1591: expected 13 fields, saw 14\\nSkipping line 1596: expected 13 fields, saw 14\\nSkipping line 1597: expected 13 fields, saw 14\\nSkipping line 1600: expected 13 fields, saw 14\\nSkipping line 1606: expected 13 fields, saw 14\\nSkipping line 1612: expected 13 fields, saw 14\\nSkipping line 1617: expected 13 fields, saw 14\\nSkipping line 1618: expected 13 fields, saw 14\\nSkipping line 1624: expected 13 fields, saw 14\\nSkipping line 1629: expected 13 fields, saw 14\\nSkipping line 1635: expected 13 fields, saw 14\\nSkipping line 1639: expected 13 fields, saw 14\\nSkipping line 1641: expected 13 fields, saw 14\\nSkipping line 1645: expected 13 fields, saw 14\\nSkipping line 1650: expected 13 fields, saw 14\\nSkipping line 1654: expected 13 fields, saw 14\\nSkipping line 1657: expected 13 fields, saw 14\\nSkipping line 1661: expected 13 fields, saw 14\\nSkipping line 1666: expected 13 fields, saw 14\\nSkipping line 1678: expected 13 fields, saw 14\\nSkipping line 1680: expected 13 fields, saw 14\\nSkipping line 1686: expected 13 fields, saw 14\\nSkipping line 1690: expected 13 fields, saw 14\\nSkipping line 1696: expected 13 fields, saw 14\\nSkipping line 1704: expected 13 fields, saw 14\\nSkipping line 1706: expected 13 fields, saw 14\\nSkipping line 1710: expected 13 fields, saw 14\\nSkipping line 1718: expected 13 fields, saw 14\\nSkipping line 1719: expected 13 fields, saw 14\\nSkipping line 1725: expected 13 fields, saw 14\\nSkipping line 1729: expected 13 fields, saw 14\\nSkipping line 1732: expected 13 fields, saw 14\\nSkipping line 1737: expected 13 fields, saw 14\\nSkipping line 1742: expected 13 fields, saw 14\\nSkipping line 1745: expected 13 fields, saw 14\\nSkipping line 1752: expected 13 fields, saw 14\\nSkipping line 1755: expected 13 fields, saw 14\\nSkipping line 1759: expected 13 fields, saw 14\\nSkipping line 1763: expected 13 fields, saw 14\\nSkipping line 1770: expected 13 fields, saw 14\\nSkipping line 1776: expected 13 fields, saw 14\\nSkipping line 1781: expected 13 fields, saw 14\\nSkipping line 1783: expected 13 fields, saw 14\\nSkipping line 1790: expected 13 fields, saw 14\\nSkipping line 1792: expected 13 fields, saw 14\\nSkipping line 1799: expected 13 fields, saw 14\\nSkipping line 1801: expected 13 fields, saw 14\\nSkipping line 1807: expected 13 fields, saw 14\\nSkipping line 1811: expected 13 fields, saw 14\\nSkipping line 1812: expected 13 fields, saw 14\\nSkipping line 1820: expected 13 fields, saw 14\\nSkipping line 1822: expected 13 fields, saw 14\\nSkipping line 1824: expected 13 fields, saw 14\\nSkipping line 1829: expected 13 fields, saw 14\\nSkipping line 1834: expected 13 fields, saw 14\\nSkipping line 1836: expected 13 fields, saw 14\\nSkipping line 1841: expected 13 fields, saw 14\\nSkipping line 1845: expected 13 fields, saw 14\\nSkipping line 1852: expected 13 fields, saw 14\\nSkipping line 1856: expected 13 fields, saw 14\\nSkipping line 1859: expected 13 fields, saw 14\\nSkipping line 1863: expected 13 fields, saw 14\\nSkipping line 1865: expected 13 fields, saw 14\\nSkipping line 1870: expected 13 fields, saw 14\\nSkipping line 1872: expected 13 fields, saw 14\\nSkipping line 1879: expected 13 fields, saw 14\\nSkipping line 1885: expected 13 fields, saw 14\\nSkipping line 1890: expected 13 fields, saw 14\\nSkipping line 1894: expected 13 fields, saw 14\\nSkipping line 1898: expected 13 fields, saw 14\\nSkipping line 1902: expected 13 fields, saw 14\\nSkipping line 1904: expected 13 fields, saw 14\\nSkipping line 1909: expected 13 fields, saw 14\\nSkipping line 1913: expected 13 fields, saw 14\\nSkipping line 1917: expected 13 fields, saw 14\\nSkipping line 1921: expected 13 fields, saw 14\\nSkipping line 1926: expected 13 fields, saw 14\\nSkipping line 1931: expected 13 fields, saw 14\\nSkipping line 1935: expected 13 fields, saw 14\\nSkipping line 1940: expected 13 fields, saw 14\\nSkipping line 1942: expected 13 fields, saw 14\\nSkipping line 1949: expected 13 fields, saw 14\\nSkipping line 1950: expected 13 fields, saw 14\\nSkipping line 1955: expected 13 fields, saw 14\\nSkipping line 1959: expected 13 fields, saw 14\\nSkipping line 1962: expected 13 fields, saw 14\\nSkipping line 1970: expected 13 fields, saw 14\\nSkipping line 1975: expected 13 fields, saw 14\\nSkipping line 1978: expected 13 fields, saw 14\\nSkipping line 1982: expected 13 fields, saw 14\\nSkipping line 1986: expected 13 fields, saw 14\\nSkipping line 1992: expected 13 fields, saw 14\\nSkipping line 2000: expected 13 fields, saw 14\\nSkipping line 2004: expected 13 fields, saw 14\\nSkipping line 2011: expected 13 fields, saw 14\\nSkipping line 2015: expected 13 fields, saw 14\\nSkipping line 2019: expected 13 fields, saw 14\\nSkipping line 2023: expected 13 fields, saw 14\\nSkipping line 2026: expected 13 fields, saw 14\\nSkipping line 2034: expected 13 fields, saw 14\\nSkipping line 2037: expected 13 fields, saw 14\\nSkipping line 2042: expected 13 fields, saw 14\\nSkipping line 2046: expected 13 fields, saw 14\\nSkipping line 2049: expected 13 fields, saw 14\\nSkipping line 2052: expected 13 fields, saw 14\\nSkipping line 2057: expected 13 fields, saw 14\\nSkipping line 2061: expected 13 fields, saw 14\\nSkipping line 2065: expected 13 fields, saw 14\\nSkipping line 2068: expected 13 fields, saw 14\\nSkipping line 2072: expected 13 fields, saw 14\\nSkipping line 2077: expected 13 fields, saw 14\\nSkipping line 2083: expected 13 fields, saw 14\\nSkipping line 2092: expected 13 fields, saw 14\\nSkipping line 2094: expected 13 fields, saw 14\\nSkipping line 2100: expected 13 fields, saw 14\\nSkipping line 2106: expected 13 fields, saw 14\\nSkipping line 2108: expected 13 fields, saw 14\\nSkipping line 2114: expected 13 fields, saw 14\\nSkipping line 2117: expected 13 fields, saw 14\\nSkipping line 2122: expected 13 fields, saw 14\\nSkipping line 2128: expected 13 fields, saw 14\\nSkipping line 2136: expected 13 fields, saw 14\\nSkipping line 2138: expected 13 fields, saw 14\\nSkipping line 2143: expected 13 fields, saw 14\\nSkipping line 2149: expected 13 fields, saw 14\\nSkipping line 2154: expected 13 fields, saw 14\\nSkipping line 2161: expected 13 fields, saw 14\\nSkipping line 2165: expected 13 fields, saw 14\\nSkipping line 2170: expected 13 fields, saw 14\\nSkipping line 2175: expected 13 fields, saw 14\\nSkipping line 2183: expected 13 fields, saw 14\\nSkipping line 2188: expected 13 fields, saw 14\\nSkipping line 2190: expected 13 fields, saw 14\\nSkipping line 2198: expected 13 fields, saw 14\\nSkipping line 2202: expected 13 fields, saw 14\\nSkipping line 2205: expected 13 fields, saw 14\\nSkipping line 2210: expected 13 fields, saw 14\\nSkipping line 2214: expected 13 fields, saw 14\\nSkipping line 2215: expected 13 fields, saw 14\\nSkipping line 2220: expected 13 fields, saw 14\\nSkipping line 2222: expected 13 fields, saw 14\\nSkipping line 2228: expected 13 fields, saw 14\\nSkipping line 2232: expected 13 fields, saw 14\\nSkipping line 2237: expected 13 fields, saw 14\\nSkipping line 2240: expected 13 fields, saw 14\\nSkipping line 2247: expected 13 fields, saw 14\\nSkipping line 2252: expected 13 fields, saw 14\\nSkipping line 2254: expected 13 fields, saw 14\\nSkipping line 2257: expected 13 fields, saw 14\\nSkipping line 2263: expected 13 fields, saw 14\\nSkipping line 2264: expected 13 fields, saw 14\\nSkipping line 2270: expected 13 fields, saw 14\\nSkipping line 2273: expected 13 fields, saw 14\\nSkipping line 2279: expected 13 fields, saw 14\\nSkipping line 2284: expected 13 fields, saw 14\\nSkipping line 2287: expected 13 fields, saw 14\\nSkipping line 2290: expected 13 fields, saw 14\\nSkipping line 2298: expected 13 fields, saw 14\\nSkipping line 2304: expected 13 fields, saw 14\\nSkipping line 2307: expected 13 fields, saw 14\\nSkipping line 2314: expected 13 fields, saw 14\\nSkipping line 2319: expected 13 fields, saw 14\\nSkipping line 2326: expected 13 fields, saw 14\\nSkipping line 2332: expected 13 fields, saw 14\\nSkipping line 2337: expected 13 fields, saw 14\\nSkipping line 2340: expected 13 fields, saw 14\\nSkipping line 2345: expected 13 fields, saw 14\\nSkipping line 2352: expected 13 fields, saw 14\\nSkipping line 2357: expected 13 fields, saw 14\\nSkipping line 2361: expected 13 fields, saw 14\\nSkipping line 2366: expected 13 fields, saw 14\\nSkipping line 2367: expected 13 fields, saw 14\\nSkipping line 2373: expected 13 fields, saw 14\\nSkipping line 2376: expected 13 fields, saw 14\\nSkipping line 2378: expected 13 fields, saw 14\\nSkipping line 2387: expected 13 fields, saw 14\\nSkipping line 2391: expected 13 fields, saw 14\\nSkipping line 2396: expected 13 fields, saw 14\\nSkipping line 2398: expected 13 fields, saw 14\\nSkipping line 2402: expected 13 fields, saw 14\\nSkipping line 2408: expected 13 fields, saw 14\\nSkipping line 2412: expected 13 fields, saw 14\\nSkipping line 2416: expected 13 fields, saw 14\\nSkipping line 2424: expected 13 fields, saw 14\\nSkipping line 2429: expected 13 fields, saw 14\\nSkipping line 2430: expected 13 fields, saw 14\\nSkipping line 2437: expected 13 fields, saw 14\\nSkipping line 2442: expected 13 fields, saw 14\\nSkipping line 2449: expected 13 fields, saw 14\\nSkipping line 2452: expected 13 fields, saw 14\\nSkipping line 2456: expected 13 fields, saw 14\\n'\n"
     ]
    }
   ],
   "source": [
    "chain = pd.read_csv(\"operational-chains-table.csv\",error_bad_lines=False, encoding='latin-1')\n",
    "chain = chain.rename(columns={'ï»¿Nom': 'Nom'})\n",
    "\n",
    "print(chain.columns)"
   ]
  },
  {
   "cell_type": "code",
   "execution_count": 156,
   "id": "b6bae089",
   "metadata": {},
   "outputs": [
    {
     "name": "stdout",
     "output_type": "stream",
     "text": [
      "                                                    Date de debut\n",
      "Acteur: nom UO                                                   \n",
      "(sur devis) TRSP2123-DERICHEBOURG - transfert f...              1\n",
      "CDT2123-SUEZ RV Centre Est AGENCE E et V BFC                    1\n",
      "CDT2123-SUEZ R&V NORD EST - OIRY                                1\n",
      "CDT2123-SCHROLL                                                 1\n",
      "CDT2123-PRAXY - EPUR CENTRE MÃ¢con                              1\n",
      "...                                                           ...\n",
      "TRSP2123-PRAXY - PRAXY CENTRE Issoire                          67\n",
      "TRSP2123-CENTRE PARISIEN DE RECYCLAGE (CPR)                    75\n",
      "TRSP2123-DEMECO ENTREPRISES                                    86\n",
      "TRSP2123-NANTET - FRANCIN                                      90\n",
      "TRSP2123-BRANGEON TRANSPORTS ET LOGISTIQUE                    167\n",
      "\n",
      "[382 rows x 1 columns]\n",
      "12.083769633507853\n"
     ]
    }
   ],
   "source": [
    "gg = chain.groupby(\"Acteur: nom UO\")[[\"Date de debut\"]].agg(np.size)\n",
    "print(gg.sort_values(\"Date de debut\"))\n",
    "print(gg[\"Date de debut\"].mean())"
   ]
  },
  {
   "cell_type": "code",
   "execution_count": 174,
   "id": "10522c2e",
   "metadata": {},
   "outputs": [
    {
     "data": {
      "text/html": [
       "<div>\n",
       "<style scoped>\n",
       "    .dataframe tbody tr th:only-of-type {\n",
       "        vertical-align: middle;\n",
       "    }\n",
       "\n",
       "    .dataframe tbody tr th {\n",
       "        vertical-align: top;\n",
       "    }\n",
       "\n",
       "    .dataframe thead th {\n",
       "        text-align: right;\n",
       "    }\n",
       "</style>\n",
       "<table border=\"1\" class=\"dataframe\">\n",
       "  <thead>\n",
       "    <tr style=\"text-align: right;\">\n",
       "      <th></th>\n",
       "      <th>Nom</th>\n",
       "    </tr>\n",
       "    <tr>\n",
       "      <th>Acteur: nom UO</th>\n",
       "      <th></th>\n",
       "    </tr>\n",
       "  </thead>\n",
       "  <tbody>\n",
       "    <tr>\n",
       "      <th>(sur devis) TRSP2123-DERICHEBOURG - transfert ferraille paprec St Mard</th>\n",
       "      <td>1</td>\n",
       "    </tr>\n",
       "    <tr>\n",
       "      <th>CDT2123-SUEZ RV Centre Est AGENCE E et V BFC</th>\n",
       "      <td>1</td>\n",
       "    </tr>\n",
       "    <tr>\n",
       "      <th>CDT2123-SUEZ R&amp;V NORD EST - OIRY</th>\n",
       "      <td>1</td>\n",
       "    </tr>\n",
       "    <tr>\n",
       "      <th>CDT2123-SCHROLL</th>\n",
       "      <td>1</td>\n",
       "    </tr>\n",
       "    <tr>\n",
       "      <th>CDT2123-PRAXY - EPUR CENTRE MÃ¢con</th>\n",
       "      <td>1</td>\n",
       "    </tr>\n",
       "    <tr>\n",
       "      <th>...</th>\n",
       "      <td>...</td>\n",
       "    </tr>\n",
       "    <tr>\n",
       "      <th>TRSP2123-PRAXY - PRAXY CENTRE Issoire</th>\n",
       "      <td>67</td>\n",
       "    </tr>\n",
       "    <tr>\n",
       "      <th>TRSP2123-CENTRE PARISIEN DE RECYCLAGE (CPR)</th>\n",
       "      <td>75</td>\n",
       "    </tr>\n",
       "    <tr>\n",
       "      <th>TRSP2123-DEMECO ENTREPRISES</th>\n",
       "      <td>86</td>\n",
       "    </tr>\n",
       "    <tr>\n",
       "      <th>TRSP2123-NANTET - FRANCIN</th>\n",
       "      <td>90</td>\n",
       "    </tr>\n",
       "    <tr>\n",
       "      <th>TRSP2123-BRANGEON TRANSPORTS ET LOGISTIQUE</th>\n",
       "      <td>167</td>\n",
       "    </tr>\n",
       "  </tbody>\n",
       "</table>\n",
       "<p>382 rows × 1 columns</p>\n",
       "</div>"
      ],
      "text/plain": [
       "                                                    Nom\n",
       "Acteur: nom UO                                         \n",
       "(sur devis) TRSP2123-DERICHEBOURG - transfert f...    1\n",
       "CDT2123-SUEZ RV Centre Est AGENCE E et V BFC          1\n",
       "CDT2123-SUEZ R&V NORD EST - OIRY                      1\n",
       "CDT2123-SCHROLL                                       1\n",
       "CDT2123-PRAXY - EPUR CENTRE MÃ¢con                    1\n",
       "...                                                 ...\n",
       "TRSP2123-PRAXY - PRAXY CENTRE Issoire                67\n",
       "TRSP2123-CENTRE PARISIEN DE RECYCLAGE (CPR)          75\n",
       "TRSP2123-DEMECO ENTREPRISES                          86\n",
       "TRSP2123-NANTET - FRANCIN                            90\n",
       "TRSP2123-BRANGEON TRANSPORTS ET LOGISTIQUE          167\n",
       "\n",
       "[382 rows x 1 columns]"
      ]
     },
     "execution_count": 174,
     "metadata": {},
     "output_type": "execute_result"
    }
   ],
   "source": [
    "chain.pivot_table(values=\"Nom\",index=\"Acteur: nom UO\", aggfunc=np.size).sort_values(\"Nom\")"
   ]
  },
  {
   "cell_type": "code",
   "execution_count": 170,
   "id": "4992dc4b",
   "metadata": {},
   "outputs": [
    {
     "name": "stderr",
     "output_type": "stream",
     "text": [
      "b'Skipping line 18063: expected 11 fields, saw 12\\nSkipping line 18065: expected 11 fields, saw 12\\nSkipping line 18394: expected 11 fields, saw 13\\nSkipping line 18398: expected 11 fields, saw 12\\nSkipping line 27389: expected 11 fields, saw 12\\nSkipping line 27390: expected 11 fields, saw 12\\nSkipping line 27392: expected 11 fields, saw 12\\nSkipping line 36228: expected 11 fields, saw 13\\nSkipping line 40927: expected 11 fields, saw 12\\nSkipping line 40928: expected 11 fields, saw 12\\nSkipping line 40932: expected 11 fields, saw 13\\nSkipping line 40933: expected 11 fields, saw 12\\nSkipping line 41699: expected 11 fields, saw 12\\nSkipping line 52886: expected 11 fields, saw 12\\nSkipping line 52892: expected 11 fields, saw 12\\nSkipping line 52912: expected 11 fields, saw 13\\nSkipping line 55819: expected 11 fields, saw 12\\nSkipping line 55820: expected 11 fields, saw 12\\nSkipping line 55827: expected 11 fields, saw 13\\n'\n",
      "b'Skipping line 84341: expected 11 fields, saw 12\\nSkipping line 84342: expected 11 fields, saw 12\\nSkipping line 84344: expected 11 fields, saw 12\\nSkipping line 84345: expected 11 fields, saw 12\\nSkipping line 84539: expected 11 fields, saw 12\\nSkipping line 84540: expected 11 fields, saw 12\\nSkipping line 85037: expected 11 fields, saw 13\\nSkipping line 85136: expected 11 fields, saw 13\\nSkipping line 87206: expected 11 fields, saw 12\\nSkipping line 87208: expected 11 fields, saw 12\\nSkipping line 88045: expected 11 fields, saw 13\\nSkipping line 127898: expected 11 fields, saw 12\\nSkipping line 127899: expected 11 fields, saw 12\\nSkipping line 127900: expected 11 fields, saw 12\\nSkipping line 127903: expected 11 fields, saw 12\\nSkipping line 127904: expected 11 fields, saw 12\\nSkipping line 127905: expected 11 fields, saw 12\\nSkipping line 130349: expected 11 fields, saw 13\\n'\n",
      "b'Skipping line 155346: expected 11 fields, saw 12\\nSkipping line 155347: expected 11 fields, saw 12\\nSkipping line 158870: expected 11 fields, saw 13\\nSkipping line 175879: expected 11 fields, saw 12\\nSkipping line 175880: expected 11 fields, saw 12\\nSkipping line 176045: expected 11 fields, saw 13\\nSkipping line 178167: expected 11 fields, saw 12\\nSkipping line 178168: expected 11 fields, saw 12\\nSkipping line 178217: expected 11 fields, saw 13\\nSkipping line 178303: expected 11 fields, saw 12\\nSkipping line 178312: expected 11 fields, saw 12\\nSkipping line 191585: expected 11 fields, saw 12\\nSkipping line 191878: expected 11 fields, saw 12\\nSkipping line 191879: expected 11 fields, saw 12\\nSkipping line 192430: expected 11 fields, saw 13\\n'\n",
      "b'Skipping line 213732: expected 11 fields, saw 12\\nSkipping line 214396: expected 11 fields, saw 13\\nSkipping line 223890: expected 11 fields, saw 12\\nSkipping line 223891: expected 11 fields, saw 12\\nSkipping line 225860: expected 11 fields, saw 12\\nSkipping line 225861: expected 11 fields, saw 12\\nSkipping line 228399: expected 11 fields, saw 12\\nSkipping line 228400: expected 11 fields, saw 12\\nSkipping line 228402: expected 11 fields, saw 12\\nSkipping line 228435: expected 11 fields, saw 13\\nSkipping line 229954: expected 11 fields, saw 13\\nSkipping line 237927: expected 11 fields, saw 12\\nSkipping line 237929: expected 11 fields, saw 12\\nSkipping line 247431: expected 11 fields, saw 13\\nSkipping line 249043: expected 11 fields, saw 12\\nSkipping line 251539: expected 11 fields, saw 12\\nSkipping line 251540: expected 11 fields, saw 12\\nSkipping line 251541: expected 11 fields, saw 12\\nSkipping line 251543: expected 11 fields, saw 12\\nSkipping line 251545: expected 11 fields, saw 12\\nSkipping line 253744: expected 11 fields, saw 13\\n'\n",
      "b'Skipping line 267674: expected 11 fields, saw 13\\nSkipping line 306918: expected 11 fields, saw 12\\nSkipping line 306919: expected 11 fields, saw 12\\nSkipping line 306920: expected 11 fields, saw 12\\nSkipping line 307839: expected 11 fields, saw 13\\nSkipping line 326942: expected 11 fields, saw 12\\nSkipping line 326943: expected 11 fields, saw 12\\nSkipping line 326983: expected 11 fields, saw 13\\n'\n",
      "b'Skipping line 327844: expected 11 fields, saw 12\\nSkipping line 327868: expected 11 fields, saw 13\\nSkipping line 327994: expected 11 fields, saw 12\\nSkipping line 327998: expected 11 fields, saw 12\\nSkipping line 358089: expected 11 fields, saw 12\\nSkipping line 359851: expected 11 fields, saw 12\\nSkipping line 359852: expected 11 fields, saw 12\\nSkipping line 359853: expected 11 fields, saw 12\\nSkipping line 362807: expected 11 fields, saw 13\\n'\n"
     ]
    },
    {
     "name": "stdout",
     "output_type": "stream",
     "text": [
      "Index(['Id', 'Origine: nom UO', 'Acteur: nom UO', 'Arrivee: nom UO',\n",
      "       'Type de transaction', 'Sous-type de transaction', 'Type de conteneurs',\n",
      "       'Date de debut transaction', 'Statut transaction',\n",
      "       'Transaction associee', 'Poids / qte'],\n",
      "      dtype='object')\n",
      "(368251, 11)\n"
     ]
    }
   ],
   "source": [
    "transac = pd.read_csv(\"transaction-table.csv\",error_bad_lines=False, encoding='latin-1')\n",
    "transac = transac.rename(columns={'ï»¿Identifiant Transaction': 'Id'})\n",
    "\n",
    "print(transac.columns)\n",
    "print(transac.shape)"
   ]
  },
  {
   "cell_type": "code",
   "execution_count": 183,
   "id": "f9cc9004",
   "metadata": {},
   "outputs": [
    {
     "name": "stdout",
     "output_type": "stream",
     "text": [
      "          Id                    Origine: nom UO  \\\n",
      "3345  451774                      OCCAMAT s.a.s   \n",
      "3379  451740                      OCCAMAT s.a.s   \n",
      "3382  451737                      OCCAMAT s.a.s   \n",
      "4234  450864  PAV - VALTRI - MARSEILLE (ps2021)   \n",
      "4317  450781                          Europexpo   \n",
      "\n",
      "                                   Acteur: nom UO  \\\n",
      "3345  TRSP2123-CENTRE PARISIEN DE RECYCLAGE (CPR)   \n",
      "3379  TRSP2123-CENTRE PARISIEN DE RECYCLAGE (CPR)   \n",
      "3382  TRSP2123-CENTRE PARISIEN DE RECYCLAGE (CPR)   \n",
      "4234       TRSP2123-ONYX MEDITERRANEE - MARSEILLE   \n",
      "4317  TRSP2123-CENTRE PARISIEN DE RECYCLAGE (CPR)   \n",
      "\n",
      "                              Arrivee: nom UO Type de transaction  \\\n",
      "3345       CDT2123-PAPREC GRAND IDF - Wissous           Transport   \n",
      "3379       CDT2123-PAPREC GRAND IDF - Wissous           Transport   \n",
      "3382       CDT2123-PAPREC GRAND IDF - Wissous           Transport   \n",
      "4234  CDT2123-PAPREC MEDITERRANEE - Marseille           Transport   \n",
      "4317       CDT2123-PAPREC GRAND IDF - Wissous           Transport   \n",
      "\n",
      "     Sous-type de transaction Type de conteneurs Date de debut transaction  \\\n",
      "3345           Passage a vide         Benne 30m3                09/09/2021   \n",
      "3379           Passage a vide         Benne 30m3                09/09/2021   \n",
      "3382           Passage a vide         Benne 30m3                09/09/2021   \n",
      "4234           Passage a vide      Benne 30m3 UO                07/09/2021   \n",
      "4317       Annulation tardive         Benne 30m3                07/09/2021   \n",
      "\n",
      "          Statut transaction  Transaction associee  Poids / qte  \n",
      "3345  Commandee par Valdelia              451774.0          NaN  \n",
      "3379  Commandee par Valdelia              451740.0          NaN  \n",
      "3382  Commandee par Valdelia              451737.0          NaN  \n",
      "4234  Commandee par Valdelia              450864.0          NaN  \n",
      "4317  Commandee par Valdelia              450781.0          NaN  \n",
      "Index(['Id', 'Origine: nom UO', 'Acteur: nom UO', 'Arrivee: nom UO',\n",
      "       'Type de transaction', 'Sous-type de transaction', 'Type de conteneurs',\n",
      "       'Date de debut transaction', 'Statut transaction',\n",
      "       'Transaction associee', 'Poids / qte'],\n",
      "      dtype='object')\n"
     ]
    }
   ],
   "source": [
    "no_app = transac[(transac[\"Type de transaction\"] == \"Transport\")& (transac[\"Statut transaction\"] == \"Commandee par Valdelia\")]\n",
    "print(no_app.head())\n",
    "print(no_app.columns)"
   ]
  },
  {
   "cell_type": "code",
   "execution_count": 173,
   "id": "6b4e36d2",
   "metadata": {},
   "outputs": [
    {
     "data": {
      "text/html": [
       "<div>\n",
       "<style scoped>\n",
       "    .dataframe tbody tr th:only-of-type {\n",
       "        vertical-align: middle;\n",
       "    }\n",
       "\n",
       "    .dataframe tbody tr th {\n",
       "        vertical-align: top;\n",
       "    }\n",
       "\n",
       "    .dataframe thead th {\n",
       "        text-align: right;\n",
       "    }\n",
       "</style>\n",
       "<table border=\"1\" class=\"dataframe\">\n",
       "  <thead>\n",
       "    <tr style=\"text-align: right;\">\n",
       "      <th></th>\n",
       "      <th>Origine: nom UO</th>\n",
       "    </tr>\n",
       "    <tr>\n",
       "      <th>Acteur: nom UO</th>\n",
       "      <th></th>\n",
       "    </tr>\n",
       "  </thead>\n",
       "  <tbody>\n",
       "    <tr>\n",
       "      <th>DEMENAGEMENTS DELACQUIS</th>\n",
       "      <td>1</td>\n",
       "    </tr>\n",
       "    <tr>\n",
       "      <th>(sur devis) TRSP2123-DERICHEBOURG - transfert ferraille paprec St Mard</th>\n",
       "      <td>9</td>\n",
       "    </tr>\n",
       "    <tr>\n",
       "      <th>CDP - ALPES ASSAINISSEMENT - VENTAVON</th>\n",
       "      <td>10</td>\n",
       "    </tr>\n",
       "    <tr>\n",
       "      <th>CDP - AM ENVIRONNEMENT</th>\n",
       "      <td>13</td>\n",
       "    </tr>\n",
       "    <tr>\n",
       "      <th>CDP - CAP RECYCLAGE</th>\n",
       "      <td>44</td>\n",
       "    </tr>\n",
       "    <tr>\n",
       "      <th>...</th>\n",
       "      <td>...</td>\n",
       "    </tr>\n",
       "    <tr>\n",
       "      <th>TRSP2123-VEOLIA PROPRETE POITOU CHARENTES - Iteuil</th>\n",
       "      <td>46</td>\n",
       "    </tr>\n",
       "    <tr>\n",
       "      <th>TRSP2123-VEOLIA SUD EST ASSINISSEMENT - NICE le PAL</th>\n",
       "      <td>214</td>\n",
       "    </tr>\n",
       "    <tr>\n",
       "      <th>Transferts BOIS -TRSP2123- PAPREC MEDITERRANEE - Marseille</th>\n",
       "      <td>4</td>\n",
       "    </tr>\n",
       "    <tr>\n",
       "      <th>operation sur devis - AUTO-MANUTENTION</th>\n",
       "      <td>38</td>\n",
       "    </tr>\n",
       "    <tr>\n",
       "      <th>testmails2</th>\n",
       "      <td>2</td>\n",
       "    </tr>\n",
       "  </tbody>\n",
       "</table>\n",
       "<p>490 rows × 1 columns</p>\n",
       "</div>"
      ],
      "text/plain": [
       "                                                    Origine: nom UO\n",
       "Acteur: nom UO                                                     \n",
       " DEMENAGEMENTS DELACQUIS                                          1\n",
       "(sur devis) TRSP2123-DERICHEBOURG - transfert f...                9\n",
       "CDP - ALPES ASSAINISSEMENT - VENTAVON                            10\n",
       "CDP - AM ENVIRONNEMENT                                           13\n",
       "CDP - CAP RECYCLAGE                                              44\n",
       "...                                                             ...\n",
       "TRSP2123-VEOLIA PROPRETE POITOU CHARENTES - Iteuil               46\n",
       "TRSP2123-VEOLIA SUD EST ASSINISSEMENT - NICE le...              214\n",
       "Transferts BOIS -TRSP2123- PAPREC MEDITERRANEE ...                4\n",
       "operation sur devis - AUTO-MANUTENTION                           38\n",
       "testmails2                                                        2\n",
       "\n",
       "[490 rows x 1 columns]"
      ]
     },
     "execution_count": 173,
     "metadata": {},
     "output_type": "execute_result"
    }
   ],
   "source": [
    "#no_app.pivot_table(values=\"Origine: nom UO\",index=\"Acteur: nom UO\", aggfunc=np.size)#.sort_values(\"Origine: nom UO\")                                                                                           \n"
   ]
  },
  {
   "cell_type": "code",
   "execution_count": 184,
   "id": "52e404ce",
   "metadata": {},
   "outputs": [
    {
     "name": "stdout",
     "output_type": "stream",
     "text": [
      "                                     Statut transaction\n",
      "Acteur: nom UO                                         \n",
      " DEMENAGEMENTS DELACQUIS                              1\n",
      "TRSP-F- PRAXY - SOFOVAR                               1\n",
      "TRSP2123-SAS LES CHAMPS JOUAULT                       1\n",
      "TRSP-F- SUEZ SUD OUEST- MOUGUERRE                     1\n",
      "TRSP-F- SUEZ RV NORD EST - TOUL                       2\n",
      "...                                                 ...\n",
      "TRSP - DEMENAGEMENTS DELACQUIS                     3652\n",
      "TRSP - CENTRE PARISIEN DE RECYCLAGE                3984\n",
      "TRSP - ONYX ARA                                    4135\n",
      "TRSP - BLB                                        12064\n",
      "TRSP - ORGANIDEM                                  13559\n",
      "\n",
      "[221 rows x 1 columns]\n",
      "472.5429864253394\n"
     ]
    }
   ],
   "source": [
    "ggg = no_app.groupby(\"Acteur: nom UO\")[[\"Statut transaction\"]].agg(np.size)\n",
    "print(ggg.sort_values(\"Statut transaction\"))\n",
    "print(ggg[\"Statut transaction\"].mean())"
   ]
  },
  {
   "cell_type": "code",
   "execution_count": 180,
   "id": "0f7ce968",
   "metadata": {},
   "outputs": [
    {
     "name": "stdout",
     "output_type": "stream",
     "text": [
      "       Id Origine: nom UO Acteur: nom UO  \\\n",
      "0  455234             NaN            NaN   \n",
      "1  455233             NaN            NaN   \n",
      "2  455232             NaN            NaN   \n",
      "3  455231        LA HALLE            NaN   \n",
      "4  455230             NaN            NaN   \n",
      "\n",
      "                            Arrivee: nom UO Type de transaction  \\\n",
      "0     CMV - THALES TOULOUSE AVS FRANCE SAS               Apport   \n",
      "1                       CMV - AXAL (ps2021)              Apport   \n",
      "2                                       NaN              Apport   \n",
      "3                                  LA HALLE              Apport   \n",
      "4  PAV - ATELIER D'ECO SOLIDAIRE - BORDEAUX              Apport   \n",
      "\n",
      "  Sous-type de transaction Type de conteneurs Date de debut transaction  \\\n",
      "0                 FantÃ´me                NaN                       NaN   \n",
      "1                 FantÃ´me                NaN                       NaN   \n",
      "2                   Defaut                NaN                       NaN   \n",
      "3                   Defaut                NaN                22/09/2021   \n",
      "4                   Defaut                NaN                18/08/2021   \n",
      "\n",
      "            Statut transaction  Transaction associee  Poids / qte  \n",
      "0                       Valide                   NaN        2.520  \n",
      "1                       Valide                   NaN        2.560  \n",
      "2  En attente de planification                   NaN          NaN  \n",
      "3                       Valide                   NaN        4.800  \n",
      "4                       Valide                   NaN        0.735  \n",
      "(101960, 11)\n"
     ]
    }
   ],
   "source": [
    "app = transac[transac[\"Type de transaction\"] == \"Apport\"]\n",
    "print(app.head())\n",
    "print(app.shape)"
   ]
  },
  {
   "cell_type": "code",
   "execution_count": null,
   "id": "25b8185c",
   "metadata": {},
   "outputs": [],
   "source": []
  }
 ],
 "metadata": {
  "kernelspec": {
   "display_name": "Python 3 (ipykernel)",
   "language": "python",
   "name": "python3"
  },
  "language_info": {
   "codemirror_mode": {
    "name": "ipython",
    "version": 3
   },
   "file_extension": ".py",
   "mimetype": "text/x-python",
   "name": "python",
   "nbconvert_exporter": "python",
   "pygments_lexer": "ipython3",
   "version": "3.9.7"
  }
 },
 "nbformat": 4,
 "nbformat_minor": 5
}
