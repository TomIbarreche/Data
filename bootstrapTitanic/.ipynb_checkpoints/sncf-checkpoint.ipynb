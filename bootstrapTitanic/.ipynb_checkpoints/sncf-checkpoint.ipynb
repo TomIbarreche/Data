{
 "cells": [
  {
   "cell_type": "code",
   "execution_count": 2,
   "id": "6a260b1a",
   "metadata": {},
   "outputs": [],
   "source": [
    "import pandas as pd\n",
    "import numpy as np\n",
    "agency_df = pd.read_csv(\"sncf_data/csv/agency.csv\")\n",
    "calendar_df = pd.read_csv(\"sncf_data/csv/calendar.csv\")\n",
    "calendar_dates_df = pd.read_csv(\"sncf_data/csv/calendar_dates.csv\")\n",
    "routes_df = pd.read_csv(\"sncf_data/csv/routes.csv\")\n",
    "stop_times_df = pd.read_csv(\"sncf_data/csv/stop_times.csv\")\n",
    "stops_df = pd.read_csv(\"sncf_data/csv/stops.csv\")\n",
    "transfers_df = pd.read_csv(\"sncf_data/csv/transfers.csv\")\n",
    "trips_df = pd.read_csv(\"sncf_data/csv/trips.csv\")\n"
   ]
  },
  {
   "cell_type": "code",
   "execution_count": 3,
   "id": "43790b0c",
   "metadata": {},
   "outputs": [
    {
     "name": "stdout",
     "output_type": "stream",
     "text": [
      "  agency_id agency_name               agency_url agency_timezone agency_lang\n",
      "0     OCESN        SNCF  http://www.ter-sncf.com    Europe/Paris          fr\n",
      "1     OCENI           -  http://www.ter-sncf.com    Europe/Paris          fr\n",
      "(2, 5)\n"
     ]
    }
   ],
   "source": [
    "print(agency_df.head())\n",
    "print(agency_df.shape)"
   ]
  },
  {
   "cell_type": "code",
   "execution_count": 4,
   "id": "20f92bef",
   "metadata": {},
   "outputs": [
    {
     "name": "stdout",
     "output_type": "stream",
     "text": [
      "   service_id  monday  tuesday  wednesday  thursday  friday  saturday  sunday  \\\n",
      "0        9939       1        1          1         1       0         0       0   \n",
      "1        8655       0        0          0         0       0         1       0   \n",
      "2        2341       0        0          0         0       0         1       0   \n",
      "3       12564       0        0          0         0       0         0       1   \n",
      "4       12565       0        0          0         0       0         1       0   \n",
      "\n",
      "   start_date  end_date  \n",
      "0    20200220  20200520  \n",
      "1    20200314  20200405  \n",
      "2    20200222  20200307  \n",
      "3    20200419  20200426  \n",
      "4    20200314  20200404  \n",
      "(5015, 10)\n"
     ]
    }
   ],
   "source": [
    "print(calendar_df.head())\n",
    "print(calendar_df.shape)"
   ]
  },
  {
   "cell_type": "code",
   "execution_count": 5,
   "id": "f68e9763",
   "metadata": {},
   "outputs": [
    {
     "name": "stdout",
     "output_type": "stream",
     "text": [
      "   service_id      date  exception_type\n",
      "0        9939  20200413               2\n",
      "1        8655  20200418               1\n",
      "2        8655  20200516               1\n",
      "3       12563  20200425               1\n",
      "4       12563  20200508               1\n",
      "(38160, 3)\n"
     ]
    }
   ],
   "source": [
    "print(calendar_dates_df.head())\n",
    "print(calendar_dates_df.shape)"
   ]
  },
  {
   "cell_type": "code",
   "execution_count": 6,
   "id": "482b5e14",
   "metadata": {},
   "outputs": [
    {
     "name": "stdout",
     "output_type": "stream",
     "text": [
      "(35096, 12)\n",
      "   service_id  monday  tuesday  wednesday  thursday  friday  saturday  sunday  \\\n",
      "0        9939       1        1          1         1       0         0       0   \n",
      "1        8655       0        0          0         0       0         1       0   \n",
      "2        8655       0        0          0         0       0         1       0   \n",
      "3       12567       0        1          1         1       0         0       0   \n",
      "4       12567       0        1          1         1       0         0       0   \n",
      "\n",
      "   start_date  end_date      date  exception_type  \n",
      "0    20200220  20200520  20200413               2  \n",
      "1    20200314  20200405  20200418               1  \n",
      "2    20200314  20200405  20200516               1  \n",
      "3    20200220  20200519  20200414               2  \n",
      "4    20200220  20200519  20200430               2  \n"
     ]
    }
   ],
   "source": [
    "complete_cal = calendar_df.merge(calendar_dates_df, on=\"service_id\")\n",
    "print(complete_cal.shape)\n",
    "print(complete_cal.head())"
   ]
  },
  {
   "cell_type": "code",
   "execution_count": 102,
   "id": "aa411439",
   "metadata": {},
   "outputs": [
    {
     "name": "stdout",
     "output_type": "stream",
     "text": [
      "Index(['route_id', 'agency_id', 'route_short_name', 'route_long_name',\n",
      "       'route_desc', 'route_type', 'route_url', 'route_color',\n",
      "       'route_text_color'],\n",
      "      dtype='object')\n",
      "(712, 9)\n",
      "       route_id agency_id  route_short_name  \\\n",
      "506  OCE1021888     OCESN               NaN   \n",
      "\n",
      "                            route_long_name  route_desc  route_type  \\\n",
      "506  PARIS-DIJON - MULHOUSE - TER GRAND EST         NaN           2   \n",
      "\n",
      "     route_url  route_color  route_text_color  \n",
      "506        NaN          NaN               NaN  \n",
      "           route_id  route_short_name  route_long_name  route_desc  \\\n",
      "agency_id                                                            \n",
      "OCENI             1                 1                1           1   \n",
      "OCESN           711               711              711         711   \n",
      "\n",
      "           route_type  route_url  route_color  route_text_color  \n",
      "agency_id                                                        \n",
      "OCENI               1          1            1                 1  \n",
      "OCESN             711        711          711               711  \n"
     ]
    }
   ],
   "source": [
    "#print(routes_df.head())\n",
    "#print(routes_df.isna().any())\n",
    "print(routes_df.columns)\n",
    "print(routes_df.shape)\n",
    "print(routes_df[routes_df[\"route_id\"] == \"OCE1021888\"])\n",
    "print(routes_df.groupby(\"agency_id\").agg(np.size))\n",
    "#pokemon_games =  routes_df.loc[routes_df['route_long_name'].str.contains(\"Gare de\", case=True)][\"route_long_name\"]\n",
    "#print(pokemon_games)"
   ]
  },
  {
   "cell_type": "code",
   "execution_count": 98,
   "id": "6928852b",
   "metadata": {},
   "outputs": [
    {
     "name": "stdout",
     "output_type": "stream",
     "text": [
      "Index(['route_id', 'service_id', 'trip_id', 'trip_headsign', 'direction_id',\n",
      "       'block_id', 'shape_id'],\n",
      "      dtype='object')\n",
      "Index(['route_id', 'agency_id', 'route_short_name', 'route_long_name',\n",
      "       'route_desc', 'route_type', 'route_url', 'route_color',\n",
      "       'route_text_color', 'service_id', 'trip_id', 'trip_headsign',\n",
      "       'direction_id', 'block_id', 'shape_id'],\n",
      "      dtype='object')\n",
      "                      trip_id    route_id\n",
      "16750  OCESN839553F4704738345  OCE1021888\n",
      "route_id\n",
      "OCE1                        88\n",
      "OCE10                       15\n",
      "OCE1021888                 227\n",
      "OCE1045887                  45\n",
      "OCE1081893                   2\n",
      "                          ... \n",
      "OCESN-87773002-87783241      1\n",
      "OCESN-87781104-87611004      3\n",
      "OCEZW-87543165-87576215     15\n",
      "OCEZW-87576025-87543165     13\n",
      "OCEZW-87576025-87576215     15\n",
      "Name: trip_id, Length: 712, dtype: int64\n"
     ]
    }
   ],
   "source": [
    "print(trips_df.columns)\n",
    "route_trip = routes_df.merge(trips_df, on=\"route_id\")\n",
    "print(route_trip.columns)\n",
    "\n",
    "#print(route_trip[[\"trip_id\", \"route_id\"]])\n",
    "rr = route_trip[route_trip[\"trip_id\"] == \"OCESN839553F4704738345\"][[\"trip_id\",\"route_id\"]]\n",
    "print(rr.head())\n",
    "print(route_trip.groupby(\"route_id\")[\"trip_id\"].agg(np.size))\n"
   ]
  },
  {
   "cell_type": "code",
   "execution_count": 69,
   "id": "81385030",
   "metadata": {},
   "outputs": [
    {
     "name": "stdout",
     "output_type": "stream",
     "text": [
      "        route_id  service_id                 trip_id  trip_headsign  \\\n",
      "17397  OCE701648        7717  OCESN839134F0400438032         839134   \n",
      "\n",
      "       direction_id  block_id  shape_id  \n",
      "17397             0       NaN       NaN  \n"
     ]
    }
   ],
   "source": [
    "#print(trips_df.head())\n",
    "#print(trips_df.shape)\n",
    "print(trips_df[trips_df[\"trip_id\"] == \"OCESN839134F0400438032\"])"
   ]
  },
  {
   "cell_type": "code",
   "execution_count": null,
   "id": "c4d3171f",
   "metadata": {},
   "outputs": [],
   "source": [
    "trip_cal = trips_df.merge(complete_cal, on=\"service_id\")\n",
    "print(trip_cal.head())\n",
    "print(trip_cal.shape)"
   ]
  },
  {
   "cell_type": "code",
   "execution_count": null,
   "id": "6e48920c",
   "metadata": {},
   "outputs": [],
   "source": [
    "trip_cal_route = trip_cal.merge(route_agen,on=\"route_id\")\n",
    "print(trip_cal_route.head())\n",
    "print(trip_cal_route.shape)"
   ]
  },
  {
   "cell_type": "code",
   "execution_count": null,
   "id": "e595ad79",
   "metadata": {},
   "outputs": [],
   "source": [
    "trip_cal_route_stop = trip_cal_route.merge(stops_complete, on=\"trip_id\")\n",
    "print(trip_cal_route_stop.head())\n",
    "print(trip_cal_route_stop.shape)"
   ]
  },
  {
   "cell_type": "code",
   "execution_count": null,
   "id": "0517f949",
   "metadata": {},
   "outputs": [],
   "source": [
    "print(trip_cal_route_stop.columns"
   ]
  },
  {
   "cell_type": "code",
   "execution_count": null,
   "id": "bacc466f",
   "metadata": {},
   "outputs": [],
   "source": []
  },
  {
   "cell_type": "code",
   "execution_count": null,
   "id": "2414e59d",
   "metadata": {},
   "outputs": [],
   "source": []
  }
 ],
 "metadata": {
  "kernelspec": {
   "display_name": "Python 3 (ipykernel)",
   "language": "python",
   "name": "python3"
  },
  "language_info": {
   "codemirror_mode": {
    "name": "ipython",
    "version": 3
   },
   "file_extension": ".py",
   "mimetype": "text/x-python",
   "name": "python",
   "nbconvert_exporter": "python",
   "pygments_lexer": "ipython3",
   "version": "3.9.7"
  }
 },
 "nbformat": 4,
 "nbformat_minor": 5
}
