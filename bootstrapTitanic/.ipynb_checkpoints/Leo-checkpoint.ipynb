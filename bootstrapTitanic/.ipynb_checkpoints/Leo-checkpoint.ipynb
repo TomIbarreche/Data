{
 "cells": [
  {
   "cell_type": "code",
   "execution_count": 91,
   "id": "a4adbbf4",
   "metadata": {},
   "outputs": [
    {
     "name": "stderr",
     "output_type": "stream",
     "text": [
      "C:\\Python\\Python39\\lib\\site-packages\\IPython\\core\\interactiveshell.py:3441: FutureWarning: The error_bad_lines argument has been deprecated and will be removed in a future version.\n",
      "\n",
      "\n",
      "  exec(code_obj, self.user_global_ns, self.user_ns)\n"
     ]
    }
   ],
   "source": [
    "import pandas as pd\n",
    "import numpy as np\n",
    "data = pd.read_csv('ss.csv', error_bad_lines=False, encoding='latin-1')\n"
   ]
  },
  {
   "cell_type": "code",
   "execution_count": 98,
   "id": "c5abc98e",
   "metadata": {},
   "outputs": [
    {
     "name": "stdout",
     "output_type": "stream",
     "text": [
      "Index(['Origine: nom UO', 'Bassin de collecte', 'Acteur: nom UO',\n",
      "       'Type de transaction', 'Sous type de transaction', 'Contenant',\n",
      "       'Prix de base', 'Indice', 'Date prix de base', 'Date de debut',\n",
      "       'Date de fin', 'Unnamed: 11', 'Unnamed: 12'],\n",
      "      dtype='object')\n"
     ]
    }
   ],
   "source": [
    "data = data.rename(columns={'ï»¿Origine: nom UO': 'Origine: nom UO'})\n",
    "print(data.columns)\n"
   ]
  },
  {
   "cell_type": "code",
   "execution_count": 135,
   "id": "c696664c",
   "metadata": {},
   "outputs": [
    {
     "name": "stdout",
     "output_type": "stream",
     "text": [
      "                                             Prix de base\n",
      "Acteur: nom UO                                           \n",
      "PAV - PRAXY_EPUR CENTRE - CUSSET                        1\n",
      "PAV - PRAXY_BOURGOGNE RECYCLAGE LONGVIC                 1\n",
      "PAV - PAPREC Grand Ile De France                        1\n",
      "PAV - SOTREMA - ROSNY SUR SEINE                         1\n",
      "PAV - PAPREC - AGENCE DESPLAT                           1\n",
      "...                                                   ...\n",
      "TRSP - CENTRE PARISIEN DE RECYCLAGE                   510\n",
      "TRSP - PRAXY CENTRE                                   515\n",
      "TRSP - CITRAVAL - ROMBAS                              597\n",
      "TRSP - BOURGOGNE RECYCLAGE - LONGVIC                  604\n",
      "TRSP2123-BRANGEON TRANSPORTS ET LOGISTIQUE            613\n",
      "\n",
      "[628 rows x 1 columns]\n"
     ]
    }
   ],
   "source": [
    "rr = data.groupby([\"Acteur: nom UO\"])[[\"Prix de base\"]].agg(np.size)\n",
    "print(rr.sort_values(\"Prix de base\"))\n"
   ]
  },
  {
   "cell_type": "code",
   "execution_count": 130,
   "id": "5521f016",
   "metadata": {},
   "outputs": [
    {
     "name": "stdout",
     "output_type": "stream",
     "text": [
      "42.847133757961785\n"
     ]
    }
   ],
   "source": [
    "print(rr[\"Prix de base\"].mean())"
   ]
  },
  {
   "cell_type": "code",
   "execution_count": 148,
   "id": "1e5d9739",
   "metadata": {},
   "outputs": [
    {
     "name": "stdout",
     "output_type": "stream",
     "text": [
      "Index(['Nom', 'Type de Source', 'Origine: nom UO', 'Bassin de collecte',\n",
      "       'Acteur: nom UO', 'Type de transaction', 'Sous type de transaction',\n",
      "       'Contenant', 'Priorite', 'Date de debut', 'Date de fin',\n",
      "       'Matieres dangereuses', 'Chaine materiautheque'],\n",
      "      dtype='object')\n"
     ]
    },
    {
     "name": "stderr",
     "output_type": "stream",
     "text": [
      "b'Skipping line 1279: expected 13 fields, saw 14\\nSkipping line 1282: expected 13 fields, saw 14\\nSkipping line 1287: expected 13 fields, saw 14\\nSkipping line 1292: expected 13 fields, saw 14\\nSkipping line 1298: expected 13 fields, saw 14\\nSkipping line 1299: expected 13 fields, saw 14\\nSkipping line 1304: expected 13 fields, saw 14\\nSkipping line 1309: expected 13 fields, saw 14\\nSkipping line 1313: expected 13 fields, saw 14\\nSkipping line 1318: expected 13 fields, saw 14\\nSkipping line 1322: expected 13 fields, saw 14\\nSkipping line 1325: expected 13 fields, saw 14\\nSkipping line 1329: expected 13 fields, saw 14\\nSkipping line 1333: expected 13 fields, saw 14\\nSkipping line 1338: expected 13 fields, saw 14\\nSkipping line 1340: expected 13 fields, saw 14\\nSkipping line 1347: expected 13 fields, saw 14\\nSkipping line 1350: expected 13 fields, saw 14\\nSkipping line 1355: expected 13 fields, saw 14\\nSkipping line 1356: expected 13 fields, saw 14\\nSkipping line 1363: expected 13 fields, saw 14\\nSkipping line 1367: expected 13 fields, saw 14\\nSkipping line 1370: expected 13 fields, saw 14\\nSkipping line 1373: expected 13 fields, saw 14\\nSkipping line 1377: expected 13 fields, saw 14\\nSkipping line 1382: expected 13 fields, saw 14\\nSkipping line 1387: expected 13 fields, saw 14\\nSkipping line 1393: expected 13 fields, saw 14\\nSkipping line 1399: expected 13 fields, saw 14\\nSkipping line 1403: expected 13 fields, saw 14\\nSkipping line 1407: expected 13 fields, saw 14\\nSkipping line 1409: expected 13 fields, saw 14\\nSkipping line 1414: expected 13 fields, saw 14\\nSkipping line 1417: expected 13 fields, saw 14\\nSkipping line 1420: expected 13 fields, saw 14\\nSkipping line 1424: expected 13 fields, saw 14\\nSkipping line 1431: expected 13 fields, saw 14\\nSkipping line 1432: expected 13 fields, saw 14\\nSkipping line 1437: expected 13 fields, saw 14\\nSkipping line 1443: expected 13 fields, saw 14\\nSkipping line 1445: expected 13 fields, saw 14\\nSkipping line 1454: expected 13 fields, saw 14\\nSkipping line 1457: expected 13 fields, saw 14\\nSkipping line 1461: expected 13 fields, saw 14\\nSkipping line 1465: expected 13 fields, saw 14\\nSkipping line 1468: expected 13 fields, saw 14\\nSkipping line 1474: expected 13 fields, saw 14\\nSkipping line 1478: expected 13 fields, saw 14\\nSkipping line 1484: expected 13 fields, saw 14\\nSkipping line 1487: expected 13 fields, saw 14\\nSkipping line 1490: expected 13 fields, saw 14\\nSkipping line 1497: expected 13 fields, saw 14\\nSkipping line 1500: expected 13 fields, saw 14\\nSkipping line 1504: expected 13 fields, saw 14\\nSkipping line 1507: expected 13 fields, saw 14\\nSkipping line 1513: expected 13 fields, saw 14\\nSkipping line 1520: expected 13 fields, saw 14\\nSkipping line 1528: expected 13 fields, saw 14\\nSkipping line 1534: expected 13 fields, saw 14\\nSkipping line 1536: expected 13 fields, saw 14\\nSkipping line 1543: expected 13 fields, saw 14\\nSkipping line 1545: expected 13 fields, saw 14\\nSkipping line 1549: expected 13 fields, saw 14\\nSkipping line 1554: expected 13 fields, saw 14\\nSkipping line 1556: expected 13 fields, saw 14\\nSkipping line 1564: expected 13 fields, saw 14\\nSkipping line 1568: expected 13 fields, saw 14\\nSkipping line 1571: expected 13 fields, saw 14\\nSkipping line 1578: expected 13 fields, saw 14\\nSkipping line 1581: expected 13 fields, saw 14\\nSkipping line 1586: expected 13 fields, saw 14\\nSkipping line 1591: expected 13 fields, saw 14\\nSkipping line 1596: expected 13 fields, saw 14\\nSkipping line 1597: expected 13 fields, saw 14\\nSkipping line 1600: expected 13 fields, saw 14\\nSkipping line 1606: expected 13 fields, saw 14\\nSkipping line 1612: expected 13 fields, saw 14\\nSkipping line 1617: expected 13 fields, saw 14\\nSkipping line 1618: expected 13 fields, saw 14\\nSkipping line 1624: expected 13 fields, saw 14\\nSkipping line 1629: expected 13 fields, saw 14\\nSkipping line 1635: expected 13 fields, saw 14\\nSkipping line 1639: expected 13 fields, saw 14\\nSkipping line 1641: expected 13 fields, saw 14\\nSkipping line 1645: expected 13 fields, saw 14\\nSkipping line 1650: expected 13 fields, saw 14\\nSkipping line 1654: expected 13 fields, saw 14\\nSkipping line 1657: expected 13 fields, saw 14\\nSkipping line 1661: expected 13 fields, saw 14\\nSkipping line 1666: expected 13 fields, saw 14\\nSkipping line 1678: expected 13 fields, saw 14\\nSkipping line 1680: expected 13 fields, saw 14\\nSkipping line 1686: expected 13 fields, saw 14\\nSkipping line 1690: expected 13 fields, saw 14\\nSkipping line 1696: expected 13 fields, saw 14\\nSkipping line 1704: expected 13 fields, saw 14\\nSkipping line 1706: expected 13 fields, saw 14\\nSkipping line 1710: expected 13 fields, saw 14\\nSkipping line 1718: expected 13 fields, saw 14\\nSkipping line 1719: expected 13 fields, saw 14\\nSkipping line 1725: expected 13 fields, saw 14\\nSkipping line 1729: expected 13 fields, saw 14\\nSkipping line 1732: expected 13 fields, saw 14\\nSkipping line 1737: expected 13 fields, saw 14\\nSkipping line 1742: expected 13 fields, saw 14\\nSkipping line 1745: expected 13 fields, saw 14\\nSkipping line 1752: expected 13 fields, saw 14\\nSkipping line 1755: expected 13 fields, saw 14\\nSkipping line 1759: expected 13 fields, saw 14\\nSkipping line 1763: expected 13 fields, saw 14\\nSkipping line 1770: expected 13 fields, saw 14\\nSkipping line 1776: expected 13 fields, saw 14\\nSkipping line 1781: expected 13 fields, saw 14\\nSkipping line 1783: expected 13 fields, saw 14\\nSkipping line 1790: expected 13 fields, saw 14\\nSkipping line 1792: expected 13 fields, saw 14\\nSkipping line 1799: expected 13 fields, saw 14\\nSkipping line 1801: expected 13 fields, saw 14\\nSkipping line 1807: expected 13 fields, saw 14\\nSkipping line 1811: expected 13 fields, saw 14\\nSkipping line 1812: expected 13 fields, saw 14\\nSkipping line 1820: expected 13 fields, saw 14\\nSkipping line 1822: expected 13 fields, saw 14\\nSkipping line 1824: expected 13 fields, saw 14\\nSkipping line 1829: expected 13 fields, saw 14\\nSkipping line 1834: expected 13 fields, saw 14\\nSkipping line 1836: expected 13 fields, saw 14\\nSkipping line 1841: expected 13 fields, saw 14\\nSkipping line 1845: expected 13 fields, saw 14\\nSkipping line 1852: expected 13 fields, saw 14\\nSkipping line 1856: expected 13 fields, saw 14\\nSkipping line 1859: expected 13 fields, saw 14\\nSkipping line 1863: expected 13 fields, saw 14\\nSkipping line 1865: expected 13 fields, saw 14\\nSkipping line 1870: expected 13 fields, saw 14\\nSkipping line 1872: expected 13 fields, saw 14\\nSkipping line 1879: expected 13 fields, saw 14\\nSkipping line 1885: expected 13 fields, saw 14\\nSkipping line 1890: expected 13 fields, saw 14\\nSkipping line 1894: expected 13 fields, saw 14\\nSkipping line 1898: expected 13 fields, saw 14\\nSkipping line 1902: expected 13 fields, saw 14\\nSkipping line 1904: expected 13 fields, saw 14\\nSkipping line 1909: expected 13 fields, saw 14\\nSkipping line 1913: expected 13 fields, saw 14\\nSkipping line 1917: expected 13 fields, saw 14\\nSkipping line 1921: expected 13 fields, saw 14\\nSkipping line 1926: expected 13 fields, saw 14\\nSkipping line 1931: expected 13 fields, saw 14\\nSkipping line 1935: expected 13 fields, saw 14\\nSkipping line 1940: expected 13 fields, saw 14\\nSkipping line 1942: expected 13 fields, saw 14\\nSkipping line 1949: expected 13 fields, saw 14\\nSkipping line 1950: expected 13 fields, saw 14\\nSkipping line 1955: expected 13 fields, saw 14\\nSkipping line 1959: expected 13 fields, saw 14\\nSkipping line 1962: expected 13 fields, saw 14\\nSkipping line 1970: expected 13 fields, saw 14\\nSkipping line 1975: expected 13 fields, saw 14\\nSkipping line 1978: expected 13 fields, saw 14\\nSkipping line 1982: expected 13 fields, saw 14\\nSkipping line 1986: expected 13 fields, saw 14\\nSkipping line 1992: expected 13 fields, saw 14\\nSkipping line 2000: expected 13 fields, saw 14\\nSkipping line 2004: expected 13 fields, saw 14\\nSkipping line 2011: expected 13 fields, saw 14\\nSkipping line 2015: expected 13 fields, saw 14\\nSkipping line 2019: expected 13 fields, saw 14\\nSkipping line 2023: expected 13 fields, saw 14\\nSkipping line 2026: expected 13 fields, saw 14\\nSkipping line 2034: expected 13 fields, saw 14\\nSkipping line 2037: expected 13 fields, saw 14\\nSkipping line 2042: expected 13 fields, saw 14\\nSkipping line 2046: expected 13 fields, saw 14\\nSkipping line 2049: expected 13 fields, saw 14\\nSkipping line 2052: expected 13 fields, saw 14\\nSkipping line 2057: expected 13 fields, saw 14\\nSkipping line 2061: expected 13 fields, saw 14\\nSkipping line 2065: expected 13 fields, saw 14\\nSkipping line 2068: expected 13 fields, saw 14\\nSkipping line 2072: expected 13 fields, saw 14\\nSkipping line 2077: expected 13 fields, saw 14\\nSkipping line 2083: expected 13 fields, saw 14\\nSkipping line 2092: expected 13 fields, saw 14\\nSkipping line 2094: expected 13 fields, saw 14\\nSkipping line 2100: expected 13 fields, saw 14\\nSkipping line 2106: expected 13 fields, saw 14\\nSkipping line 2108: expected 13 fields, saw 14\\nSkipping line 2114: expected 13 fields, saw 14\\nSkipping line 2117: expected 13 fields, saw 14\\nSkipping line 2122: expected 13 fields, saw 14\\nSkipping line 2128: expected 13 fields, saw 14\\nSkipping line 2136: expected 13 fields, saw 14\\nSkipping line 2138: expected 13 fields, saw 14\\nSkipping line 2143: expected 13 fields, saw 14\\nSkipping line 2149: expected 13 fields, saw 14\\nSkipping line 2154: expected 13 fields, saw 14\\nSkipping line 2161: expected 13 fields, saw 14\\nSkipping line 2165: expected 13 fields, saw 14\\nSkipping line 2170: expected 13 fields, saw 14\\nSkipping line 2175: expected 13 fields, saw 14\\nSkipping line 2183: expected 13 fields, saw 14\\nSkipping line 2188: expected 13 fields, saw 14\\nSkipping line 2190: expected 13 fields, saw 14\\nSkipping line 2198: expected 13 fields, saw 14\\nSkipping line 2202: expected 13 fields, saw 14\\nSkipping line 2205: expected 13 fields, saw 14\\nSkipping line 2210: expected 13 fields, saw 14\\nSkipping line 2214: expected 13 fields, saw 14\\nSkipping line 2215: expected 13 fields, saw 14\\nSkipping line 2220: expected 13 fields, saw 14\\nSkipping line 2222: expected 13 fields, saw 14\\nSkipping line 2228: expected 13 fields, saw 14\\nSkipping line 2232: expected 13 fields, saw 14\\nSkipping line 2237: expected 13 fields, saw 14\\nSkipping line 2240: expected 13 fields, saw 14\\nSkipping line 2247: expected 13 fields, saw 14\\nSkipping line 2252: expected 13 fields, saw 14\\nSkipping line 2254: expected 13 fields, saw 14\\nSkipping line 2257: expected 13 fields, saw 14\\nSkipping line 2263: expected 13 fields, saw 14\\nSkipping line 2264: expected 13 fields, saw 14\\nSkipping line 2270: expected 13 fields, saw 14\\nSkipping line 2273: expected 13 fields, saw 14\\nSkipping line 2279: expected 13 fields, saw 14\\nSkipping line 2284: expected 13 fields, saw 14\\nSkipping line 2287: expected 13 fields, saw 14\\nSkipping line 2290: expected 13 fields, saw 14\\nSkipping line 2298: expected 13 fields, saw 14\\nSkipping line 2304: expected 13 fields, saw 14\\nSkipping line 2307: expected 13 fields, saw 14\\nSkipping line 2314: expected 13 fields, saw 14\\nSkipping line 2319: expected 13 fields, saw 14\\nSkipping line 2326: expected 13 fields, saw 14\\nSkipping line 2332: expected 13 fields, saw 14\\nSkipping line 2337: expected 13 fields, saw 14\\nSkipping line 2340: expected 13 fields, saw 14\\nSkipping line 2345: expected 13 fields, saw 14\\nSkipping line 2352: expected 13 fields, saw 14\\nSkipping line 2357: expected 13 fields, saw 14\\nSkipping line 2361: expected 13 fields, saw 14\\nSkipping line 2366: expected 13 fields, saw 14\\nSkipping line 2367: expected 13 fields, saw 14\\nSkipping line 2373: expected 13 fields, saw 14\\nSkipping line 2376: expected 13 fields, saw 14\\nSkipping line 2378: expected 13 fields, saw 14\\nSkipping line 2387: expected 13 fields, saw 14\\nSkipping line 2391: expected 13 fields, saw 14\\nSkipping line 2396: expected 13 fields, saw 14\\nSkipping line 2398: expected 13 fields, saw 14\\nSkipping line 2402: expected 13 fields, saw 14\\nSkipping line 2408: expected 13 fields, saw 14\\nSkipping line 2412: expected 13 fields, saw 14\\nSkipping line 2416: expected 13 fields, saw 14\\nSkipping line 2424: expected 13 fields, saw 14\\nSkipping line 2429: expected 13 fields, saw 14\\nSkipping line 2430: expected 13 fields, saw 14\\nSkipping line 2437: expected 13 fields, saw 14\\nSkipping line 2442: expected 13 fields, saw 14\\nSkipping line 2449: expected 13 fields, saw 14\\nSkipping line 2452: expected 13 fields, saw 14\\nSkipping line 2456: expected 13 fields, saw 14\\n'\n"
     ]
    }
   ],
   "source": [
    "chain = pd.read_csv(\"operational-chains-table.csv\",error_bad_lines=False, encoding='latin-1')\n",
    "chain = chain.rename(columns={'ï»¿Nom': 'Nom'})\n",
    "\n",
    "print(chain.columns)"
   ]
  },
  {
   "cell_type": "code",
   "execution_count": 156,
   "id": "63250562",
   "metadata": {},
   "outputs": [
    {
     "name": "stdout",
     "output_type": "stream",
     "text": [
      "                                                    Date de debut\n",
      "Acteur: nom UO                                                   \n",
      "(sur devis) TRSP2123-DERICHEBOURG - transfert f...              1\n",
      "CDT2123-SUEZ RV Centre Est AGENCE E et V BFC                    1\n",
      "CDT2123-SUEZ R&V NORD EST - OIRY                                1\n",
      "CDT2123-SCHROLL                                                 1\n",
      "CDT2123-PRAXY - EPUR CENTRE MÃ¢con                              1\n",
      "...                                                           ...\n",
      "TRSP2123-PRAXY - PRAXY CENTRE Issoire                          67\n",
      "TRSP2123-CENTRE PARISIEN DE RECYCLAGE (CPR)                    75\n",
      "TRSP2123-DEMECO ENTREPRISES                                    86\n",
      "TRSP2123-NANTET - FRANCIN                                      90\n",
      "TRSP2123-BRANGEON TRANSPORTS ET LOGISTIQUE                    167\n",
      "\n",
      "[382 rows x 1 columns]\n",
      "12.083769633507853\n"
     ]
    }
   ],
   "source": [
    "gg = chain.groupby(\"Acteur: nom UO\")[[\"Date de debut\"]].agg(np.size)\n",
    "print(gg.sort_values(\"Date de debut\"))\n",
    "print(gg[\"Date de debut\"].mean())"
   ]
  },
  {
   "cell_type": "code",
   "execution_count": 163,
   "id": "468151f3",
   "metadata": {},
   "outputs": [
    {
     "data": {
      "text/plain": [
       "Nom    12.08377\n",
       "dtype: float64"
      ]
     },
     "execution_count": 163,
     "metadata": {},
     "output_type": "execute_result"
    }
   ],
   "source": [
    "chain.pivot_table(values=\"Nom\",index=\"Acteur: nom UO\", aggfunc=np.size).sort_values(\"Nom\").mean()"
   ]
  },
  {
   "cell_type": "code",
   "execution_count": null,
   "id": "06a78de9",
   "metadata": {},
   "outputs": [],
   "source": []
  }
 ],
 "metadata": {
  "kernelspec": {
   "display_name": "Python 3 (ipykernel)",
   "language": "python",
   "name": "python3"
  },
  "language_info": {
   "codemirror_mode": {
    "name": "ipython",
    "version": 3
   },
   "file_extension": ".py",
   "mimetype": "text/x-python",
   "name": "python",
   "nbconvert_exporter": "python",
   "pygments_lexer": "ipython3",
   "version": "3.9.7"
  }
 },
 "nbformat": 4,
 "nbformat_minor": 5
}
