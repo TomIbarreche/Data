{
 "cells": [
  {
   "cell_type": "code",
   "execution_count": 2,
   "id": "64b2f67c",
   "metadata": {},
   "outputs": [],
   "source": [
    "import pandas as pd\n",
    "import numpy as np\n",
    "import matplotlib.pyplot as plt"
   ]
  },
  {
   "cell_type": "code",
   "execution_count": 3,
   "id": "3caacef2",
   "metadata": {},
   "outputs": [],
   "source": [
    "df = pd.read_csv(\"titanic.csv\")"
   ]
  },
  {
   "cell_type": "code",
   "execution_count": 37,
   "id": "e23371b8",
   "metadata": {},
   "outputs": [
    {
     "name": "stdout",
     "output_type": "stream",
     "text": [
      "427\n"
     ]
    }
   ],
   "source": [
    "df.head()\n",
    "\n",
    "df = df.dropna(subset=['age'])\n",
    "fr = df[\"survived\"].mean()\n",
    "print(len(df[df[\"survived\"] ==1 ]))\n"
   ]
  },
  {
   "cell_type": "code",
   "execution_count": 29,
   "id": "e0240cd6",
   "metadata": {},
   "outputs": [
    {
     "data": {
      "text/html": [
       "<div>\n",
       "<style scoped>\n",
       "    .dataframe tbody tr th:only-of-type {\n",
       "        vertical-align: middle;\n",
       "    }\n",
       "\n",
       "    .dataframe tbody tr th {\n",
       "        vertical-align: top;\n",
       "    }\n",
       "\n",
       "    .dataframe thead th {\n",
       "        text-align: right;\n",
       "    }\n",
       "</style>\n",
       "<table border=\"1\" class=\"dataframe\">\n",
       "  <thead>\n",
       "    <tr style=\"text-align: right;\">\n",
       "      <th></th>\n",
       "      <th>pclass</th>\n",
       "      <th>survived</th>\n",
       "      <th>name</th>\n",
       "      <th>sex</th>\n",
       "      <th>age</th>\n",
       "      <th>sibsp</th>\n",
       "      <th>parch</th>\n",
       "      <th>ticket</th>\n",
       "      <th>fare</th>\n",
       "      <th>cabin</th>\n",
       "      <th>embarked</th>\n",
       "      <th>boat</th>\n",
       "      <th>body</th>\n",
       "      <th>home.dest</th>\n",
       "    </tr>\n",
       "  </thead>\n",
       "  <tbody>\n",
       "    <tr>\n",
       "      <th>9</th>\n",
       "      <td>1</td>\n",
       "      <td>0</td>\n",
       "      <td>Artagaveytia, Mr. Ramon</td>\n",
       "      <td>male</td>\n",
       "      <td>71.0</td>\n",
       "      <td>0</td>\n",
       "      <td>0</td>\n",
       "      <td>PC 17609</td>\n",
       "      <td>49.5042</td>\n",
       "      <td>NaN</td>\n",
       "      <td>C</td>\n",
       "      <td>NaN</td>\n",
       "      <td>22.0</td>\n",
       "      <td>Montevideo, Uruguay</td>\n",
       "    </tr>\n",
       "    <tr>\n",
       "      <th>14</th>\n",
       "      <td>1</td>\n",
       "      <td>1</td>\n",
       "      <td>Barkworth, Mr. Algernon Henry Wilson</td>\n",
       "      <td>male</td>\n",
       "      <td>80.0</td>\n",
       "      <td>0</td>\n",
       "      <td>0</td>\n",
       "      <td>27042</td>\n",
       "      <td>30.0000</td>\n",
       "      <td>A23</td>\n",
       "      <td>S</td>\n",
       "      <td>B</td>\n",
       "      <td>NaN</td>\n",
       "      <td>Hessle, Yorks</td>\n",
       "    </tr>\n",
       "    <tr>\n",
       "      <th>61</th>\n",
       "      <td>1</td>\n",
       "      <td>1</td>\n",
       "      <td>Cavendish, Mrs. Tyrell William (Julia Florence...</td>\n",
       "      <td>female</td>\n",
       "      <td>76.0</td>\n",
       "      <td>1</td>\n",
       "      <td>0</td>\n",
       "      <td>19877</td>\n",
       "      <td>78.8500</td>\n",
       "      <td>C46</td>\n",
       "      <td>S</td>\n",
       "      <td>6</td>\n",
       "      <td>NaN</td>\n",
       "      <td>Little Onn Hall, Staffs</td>\n",
       "    </tr>\n",
       "    <tr>\n",
       "      <th>135</th>\n",
       "      <td>1</td>\n",
       "      <td>0</td>\n",
       "      <td>Goldschmidt, Mr. George B</td>\n",
       "      <td>male</td>\n",
       "      <td>71.0</td>\n",
       "      <td>0</td>\n",
       "      <td>0</td>\n",
       "      <td>PC 17754</td>\n",
       "      <td>34.6542</td>\n",
       "      <td>A5</td>\n",
       "      <td>C</td>\n",
       "      <td>NaN</td>\n",
       "      <td>NaN</td>\n",
       "      <td>New York, NY</td>\n",
       "    </tr>\n",
       "    <tr>\n",
       "      <th>727</th>\n",
       "      <td>3</td>\n",
       "      <td>0</td>\n",
       "      <td>Connors, Mr. Patrick</td>\n",
       "      <td>male</td>\n",
       "      <td>70.5</td>\n",
       "      <td>0</td>\n",
       "      <td>0</td>\n",
       "      <td>370369</td>\n",
       "      <td>7.7500</td>\n",
       "      <td>NaN</td>\n",
       "      <td>Q</td>\n",
       "      <td>NaN</td>\n",
       "      <td>171.0</td>\n",
       "      <td>NaN</td>\n",
       "    </tr>\n",
       "    <tr>\n",
       "      <th>1235</th>\n",
       "      <td>3</td>\n",
       "      <td>0</td>\n",
       "      <td>Svensson, Mr. Johan</td>\n",
       "      <td>male</td>\n",
       "      <td>74.0</td>\n",
       "      <td>0</td>\n",
       "      <td>0</td>\n",
       "      <td>347060</td>\n",
       "      <td>7.7750</td>\n",
       "      <td>NaN</td>\n",
       "      <td>S</td>\n",
       "      <td>NaN</td>\n",
       "      <td>NaN</td>\n",
       "      <td>NaN</td>\n",
       "    </tr>\n",
       "  </tbody>\n",
       "</table>\n",
       "</div>"
      ],
      "text/plain": [
       "      pclass  survived                                               name  \\\n",
       "9          1         0                            Artagaveytia, Mr. Ramon   \n",
       "14         1         1               Barkworth, Mr. Algernon Henry Wilson   \n",
       "61         1         1  Cavendish, Mrs. Tyrell William (Julia Florence...   \n",
       "135        1         0                          Goldschmidt, Mr. George B   \n",
       "727        3         0                               Connors, Mr. Patrick   \n",
       "1235       3         0                                Svensson, Mr. Johan   \n",
       "\n",
       "         sex   age  sibsp  parch    ticket     fare cabin embarked boat  \\\n",
       "9       male  71.0      0      0  PC 17609  49.5042   NaN        C  NaN   \n",
       "14      male  80.0      0      0     27042  30.0000   A23        S    B   \n",
       "61    female  76.0      1      0     19877  78.8500   C46        S    6   \n",
       "135     male  71.0      0      0  PC 17754  34.6542    A5        C  NaN   \n",
       "727     male  70.5      0      0    370369   7.7500   NaN        Q  NaN   \n",
       "1235    male  74.0      0      0    347060   7.7750   NaN        S  NaN   \n",
       "\n",
       "       body                home.dest  \n",
       "9      22.0      Montevideo, Uruguay  \n",
       "14      NaN            Hessle, Yorks  \n",
       "61      NaN  Little Onn Hall, Staffs  \n",
       "135     NaN             New York, NY  \n",
       "727   171.0                      NaN  \n",
       "1235    NaN                      NaN  "
      ]
     },
     "execution_count": 29,
     "metadata": {},
     "output_type": "execute_result"
    }
   ],
   "source": [
    "df[df[\"age\"] > 70]"
   ]
  },
  {
   "cell_type": "code",
   "execution_count": 30,
   "id": "d4f00396",
   "metadata": {},
   "outputs": [
    {
     "data": {
      "text/plain": [
       "<AxesSubplot:xlabel='age,sex'>"
      ]
     },
     "execution_count": 30,
     "metadata": {},
     "output_type": "execute_result"
    },
    {
     "data": {
      "image/png": "[encoded data removed]",
      "text/plain": [
       "<Figure size 432x288 with 1 Axes>"
      ]
     },
     "metadata": {
      "needs_background": "light"
     },
     "output_type": "display_data"
    }
   ],
   "source": [
    "df.groupby([pd.cut(df[\"age\"], np.arange(0, 81,10)), \"sex\"])[\"survived\"].mean().T.plot(kind=\"bar\")"
   ]
  },
  {
   "cell_type": "code",
   "execution_count": 7,
   "id": "3e48f61f",
   "metadata": {},
   "outputs": [
    {
     "ename": "NameError",
     "evalue": "name 'plot' is not defined",
     "output_type": "error",
     "traceback": [
      "\u001b[1;31m---------------------------------------------------------------------------\u001b[0m",
      "\u001b[1;31mNameError\u001b[0m                                 Traceback (most recent call last)",
      "\u001b[1;32mC:\\Users\\TOMIBA~1\\AppData\\Local\\Temp/ipykernel_6556/1231523047.py\u001b[0m in \u001b[0;36m<module>\u001b[1;34m\u001b[0m\n\u001b[1;32m----> 1\u001b[1;33m \u001b[0mplot\u001b[0m\u001b[1;33m(\u001b[0m\u001b[0mkind\u001b[0m\u001b[1;33m=\u001b[0m\u001b[1;34m\"bar\"\u001b[0m\u001b[1;33m)\u001b[0m\u001b[1;33m\u001b[0m\u001b[1;33m\u001b[0m\u001b[0m\n\u001b[0m",
      "\u001b[1;31mNameError\u001b[0m: name 'plot' is not defined"
     ]
    }
   ],
   "source": [
    "plot(kind=\"bar\")"
   ]
  },
  {
   "cell_type": "code",
   "execution_count": null,
   "id": "a8f9a126",
   "metadata": {},
   "outputs": [],
   "source": [
    "\n",
    "coin.T.plot.bar()\n",
    "plt.show()"
   ]
  },
  {
   "cell_type": "code",
   "execution_count": null,
   "id": "af6467c2",
   "metadata": {},
   "outputs": [],
   "source": [
    "df[df[\"age\"] <= 10][\"survived\"]"
   ]
  },
  {
   "cell_type": "code",
   "execution_count": null,
   "id": "74af3898",
   "metadata": {},
   "outputs": [],
   "source": [
    "df[(df[\"age\"] <= 10) & (df[\"survived\"]  == 1)][\"survived\"].count()"
   ]
  },
  {
   "cell_type": "code",
   "execution_count": 42,
   "id": "62e958e9",
   "metadata": {},
   "outputs": [
    {
     "name": "stdout",
     "output_type": "stream",
     "text": [
      "      pclass  survived                                  name   sex      age  \\\n",
      "1          1         1        Allison, Master. Hudson Trevor  male   0.9167   \n",
      "3          1         0  Allison, Mr. Hudson Joshua Creighton  male  30.0000   \n",
      "5          1         1                   Anderson, Mr. Harry  male  48.0000   \n",
      "7          1         0                Andrews, Mr. Thomas Jr  male  39.0000   \n",
      "9          1         0               Artagaveytia, Mr. Ramon  male  71.0000   \n",
      "...      ...       ...                                   ...   ...      ...   \n",
      "1299       3         0                   Yasbeck, Mr. Antoni  male  27.0000   \n",
      "1301       3         0                  Youseff, Mr. Gerious  male  45.5000   \n",
      "1306       3         0             Zakarian, Mr. Mapriededer  male  26.5000   \n",
      "1307       3         0                   Zakarian, Mr. Ortin  male  27.0000   \n",
      "1308       3         0                    Zimmerman, Mr. Leo  male  29.0000   \n",
      "\n",
      "      sibsp  parch    ticket      fare    cabin embarked boat   body  \\\n",
      "1         1      2    113781  151.5500  C22 C26        S   11    NaN   \n",
      "3         1      2    113781  151.5500  C22 C26        S  NaN  135.0   \n",
      "5         0      0     19952   26.5500      E12        S    3    NaN   \n",
      "7         0      0    112050    0.0000      A36        S  NaN    NaN   \n",
      "9         0      0  PC 17609   49.5042      NaN        C  NaN   22.0   \n",
      "...     ...    ...       ...       ...      ...      ...  ...    ...   \n",
      "1299      1      0      2659   14.4542      NaN        C    C    NaN   \n",
      "1301      0      0      2628    7.2250      NaN        C  NaN  312.0   \n",
      "1306      0      0      2656    7.2250      NaN        C  NaN  304.0   \n",
      "1307      0      0      2670    7.2250      NaN        C  NaN    NaN   \n",
      "1308      0      0    315082    7.8750      NaN        S  NaN    NaN   \n",
      "\n",
      "                            home.dest  \n",
      "1     Montreal, PQ / Chesterville, ON  \n",
      "3     Montreal, PQ / Chesterville, ON  \n",
      "5                        New York, NY  \n",
      "7                         Belfast, NI  \n",
      "9                 Montevideo, Uruguay  \n",
      "...                               ...  \n",
      "1299                              NaN  \n",
      "1301                              NaN  \n",
      "1306                              NaN  \n",
      "1307                              NaN  \n",
      "1308                              NaN  \n",
      "\n",
      "[658 rows x 14 columns]\n"
     ]
    }
   ],
   "source": [
    "male_df = df[df[\"sex\"] == \"male\"]#.groupby(pd.cut(df[\"age\"], np.arange(0, 81,10)))[\"survived\"].mean()\n",
    "print(male_df)"
   ]
  },
  {
   "cell_type": "code",
   "execution_count": 45,
   "id": "56c9338b",
   "metadata": {},
   "outputs": [
    {
     "data": {
      "text/plain": [
       "0.40822179732313574"
      ]
     },
     "execution_count": 45,
     "metadata": {},
     "output_type": "execute_result"
    }
   ],
   "source": [
    "df[\"survived\"].mean()"
   ]
  },
  {
   "cell_type": "code",
   "execution_count": 46,
   "id": "fe5d72f9",
   "metadata": {},
   "outputs": [
    {
     "data": {
      "text/plain": [
       "sex\n",
       "female    0.752577\n",
       "male      0.205167\n",
       "Name: survived, dtype: float64"
      ]
     },
     "execution_count": 46,
     "metadata": {},
     "output_type": "execute_result"
    }
   ],
   "source": [
    "df.groupby(\"sex\")[\"survived\"].mean()"
   ]
  },
  {
   "cell_type": "code",
   "execution_count": 48,
   "id": "bdab139a",
   "metadata": {},
   "outputs": [
    {
     "data": {
      "text/plain": [
       "sex\n",
       "female    27.91587\n",
       "male      12.90631\n",
       "Name: survived, dtype: float64"
      ]
     },
     "execution_count": 48,
     "metadata": {},
     "output_type": "execute_result"
    }
   ],
   "source": [
    "def test(column): return np.sum(column) / len(df) *100\n",
    "df.groupby(\"sex\")[\"survived\"].agg(test)"
   ]
  },
  {
   "cell_type": "code",
   "execution_count": 44,
   "id": "e4fc6896",
   "metadata": {},
   "outputs": [
    {
     "name": "stdout",
     "output_type": "stream",
     "text": [
      "              mean  sum  count       test\n",
      "age                                      \n",
      "(0, 10]   0.581395   50     86   4.780115\n",
      "(10, 20]  0.395062   64    162   6.118547\n",
      "(20, 30]  0.371191  134    361  12.810707\n",
      "(30, 40]  0.423810   89    210   8.508604\n",
      "(40, 50]  0.393939   52    132   4.971319\n",
      "(50, 60]  0.483871   30     62   2.868069\n",
      "(60, 70]  0.222222    6     27   0.573614\n",
      "(70, 80]  0.333333    2      6   0.191205\n"
     ]
    }
   ],
   "source": [
    "def test(column): return np.sum(column) / len(df) *100\n",
    "\n",
    "survied_age = df.groupby(pd.cut(df[\"age\"], np.arange(0, 81,10)))[\"survived\"].agg([np.mean,np.sum,pd.Series.count,test])\n",
    "print(survied_age)"
   ]
  },
  {
   "cell_type": "code",
   "execution_count": 49,
   "id": "ac19101d",
   "metadata": {},
   "outputs": [
    {
     "name": "stdout",
     "output_type": "stream",
     "text": [
      "              mean  sum      test\n",
      "age                              \n",
      "(0, 10]   0.555556   25  2.390057\n",
      "(10, 20]  0.148936   14  1.338432\n",
      "(20, 30]  0.182979   43  4.110899\n",
      "(30, 40]  0.207407   28  2.676864\n",
      "(40, 50]  0.186047   16  1.529637\n",
      "(50, 60]  0.189189    7  0.669216\n",
      "(60, 70]  0.047619    1  0.095602\n",
      "(70, 80]  0.200000    1  0.095602\n"
     ]
    }
   ],
   "source": [
    "def test(column): return np.sum(column) / len(df) *100\n",
    "mean_survived_male_df = male_df.groupby(pd.cut(male_df[\"age\"], np.arange(0, 81,10)))[\"survived\"].agg([np.mean,np.sum,test])\n",
    "print(mean_survived_male_df)"
   ]
  },
  {
   "cell_type": "code",
   "execution_count": 51,
   "id": "ae7b8bdb",
   "metadata": {},
   "outputs": [
    {
     "data": {
      "text/plain": [
       "135"
      ]
     },
     "execution_count": 51,
     "metadata": {},
     "output_type": "execute_result"
    }
   ],
   "source": [
    "len(df[(df[\"survived\"] == 1) & (df[\"sex\"] == \"male\")])"
   ]
  },
  {
   "cell_type": "code",
   "execution_count": 56,
   "id": "6b0825a4",
   "metadata": {},
   "outputs": [
    {
     "name": "stdout",
     "output_type": "stream",
     "text": [
      "          moyenne_partielle  moyenne_global\n",
      "age                                        \n",
      "(0, 10]           60.975610        2.390057\n",
      "(10, 20]          73.529412        4.780115\n",
      "(20, 30]          72.222222        8.699809\n",
      "(30, 40]          81.333333        5.831740\n",
      "(40, 50]          78.260870        3.441683\n",
      "(50, 60]          92.000000        2.198853\n",
      "(60, 70]          83.333333        0.478011\n",
      "(70, 80]         100.000000        0.095602\n"
     ]
    },
    {
     "data": {
      "text/plain": [
       "<AxesSubplot:xlabel='age'>"
      ]
     },
     "execution_count": 56,
     "metadata": {},
     "output_type": "execute_result"
    },
    {
     "data": {
      "image/png": "[encoded data removed]",
      "text/plain": [
       "<Figure size 432x288 with 1 Axes>"
      ]
     },
     "metadata": {
      "needs_background": "light"
     },
     "output_type": "display_data"
    }
   ],
   "source": [
    "def moyenne_global(column): return np.sum(column) / len(df) *100\n",
    "def moyenne_partielle(column): return np.mean(column)*100\n",
    "female_df = df[df[\"sex\"] == \"female\"]\n",
    "mean_survived_female_df = female_df.groupby(pd.cut(female_df[\"age\"], np.arange(0, 81,10)))[\"survived\"].agg([moyenne_partielle,moyenne_global])\n",
    "print(mean_survived_female_df)\n",
    "mean_survived_female_df.plot(kind=\"bar\")"
   ]
  },
  {
   "cell_type": "code",
   "execution_count": null,
   "id": "826d7fa0",
   "metadata": {
    "scrolled": true
   },
   "outputs": [],
   "source": [
    "ax = mean_survived_male_df.plot(kind=\"bar\")\n",
    "\n",
    "\n",
    "mean_survived_female_df.plot(ax=ax, kind=\"bar\", alpha=0.5)\n",
    "plt.legend([\"Male\",\"Female\"])\n",
    "plt.ylabel(\"% of survivors\")\n",
    "\n"
   ]
  },
  {
   "cell_type": "code",
   "execution_count": null,
   "id": "6d488696",
   "metadata": {},
   "outputs": [],
   "source": [
    "classd = df.groupby([\"pclass\",\"sex\"])[\"survived\"].agg([np.mean])"
   ]
  },
  {
   "cell_type": "code",
   "execution_count": null,
   "id": "af20e6f6",
   "metadata": {},
   "outputs": [],
   "source": [
    "print(classd)"
   ]
  },
  {
   "cell_type": "code",
   "execution_count": 69,
   "id": "6baab9b4",
   "metadata": {},
   "outputs": [
    {
     "data": {
      "text/plain": [
       "133"
      ]
     },
     "execution_count": 69,
     "metadata": {},
     "output_type": "execute_result"
    }
   ],
   "source": [
    "len(df[(df[\"sex\"] == \"female\")&(df[\"pclass\"] == 1)])"
   ]
  },
  {
   "cell_type": "code",
   "execution_count": 94,
   "id": "ecd4ed76",
   "metadata": {},
   "outputs": [
    {
     "name": "stdout",
     "output_type": "stream",
     "text": [
      "        percent_survie_groupe  proportion_parmis_la_pop  \\\n",
      "pclass                                                    \n",
      "1                   63.732394                 17.304015   \n",
      "2                   44.061303                 10.994264   \n",
      "3                   26.147705                 12.523901   \n",
      "\n",
      "        proportion_among_survivors         tt  \n",
      "pclass                                         \n",
      "1                        42.388759  27.151052  \n",
      "2                        26.932084  24.952199  \n",
      "3                        30.679157  47.896750  \n"
     ]
    },
    {
     "data": {
      "image/png": "[encoded data removed]",
      "text/plain": [
       "<Figure size 432x288 with 1 Axes>"
      ]
     },
     "metadata": {
      "needs_background": "light"
     },
     "output_type": "display_data"
    }
   ],
   "source": [
    "def proportion_parmis_la_pop(column): return np.sum(column) / len(df) *100\n",
    "def percent_survie_groupe(column): return np.mean(column)*100\n",
    "def proportion_among_survivors(column): return np.sum(column)/len(df[df[\"survived\"] == 1]) *100\n",
    "def tt(column): return np.size(column)/ len(df)*100\n",
    "cl = df.groupby([\"pclass\"])[\"survived\"].agg([percent_survie_groupe,proportion_parmis_la_pop, proportion_among_survivors ,tt])\n",
    "cl.plot(kind=\"bar\")\n",
    "print(cl)"
   ]
  },
  {
   "cell_type": "markdown",
   "id": "a4951fc5",
   "metadata": {},
   "source": [
    "63% des gens de 1ère classe ont survécu || il représente 17% de la population à bord du bateau ||  42% des survivants étaient issues de cette classe"
   ]
  },
  {
   "cell_type": "code",
   "execution_count": 84,
   "id": "8f90c757",
   "metadata": {},
   "outputs": [
    {
     "data": {
      "text/plain": [
       "181"
      ]
     },
     "execution_count": 84,
     "metadata": {},
     "output_type": "execute_result"
    }
   ],
   "source": [
    "len(df[(df[\"pclass\"] ==1)&(df[\"survived\"]  == 1)])\n"
   ]
  },
  {
   "cell_type": "code",
   "execution_count": 54,
   "id": "04f4bda1",
   "metadata": {},
   "outputs": [
    {
     "name": "stdout",
     "output_type": "stream",
     "text": [
      "                  mean\n",
      "pclass sibsp          \n",
      "1      0      0.593939\n",
      "       1      0.682243\n",
      "       2      0.875000\n",
      "       3      0.750000\n",
      "2      0      0.391566\n",
      "       1      0.524390\n",
      "       2      0.500000\n",
      "       3      1.000000\n",
      "3      0      0.259887\n",
      "       1      0.340659\n",
      "       2      0.187500\n",
      "       3      0.181818\n",
      "       4      0.136364\n",
      "       5      0.000000\n",
      "       8      0.000000\n"
     ]
    }
   ],
   "source": [
    "df_sib = df.groupby([\"pclass\", \"sibsp\"])[\"survived\"].agg([np.mean])#, pd.Series.count])\n",
    "print(df_sib)"
   ]
  },
  {
   "cell_type": "code",
   "execution_count": null,
   "id": "c595d9c4",
   "metadata": {},
   "outputs": [],
   "source": [
    "df_sib.plot(kind=\"bar\")"
   ]
  },
  {
   "cell_type": "code",
   "execution_count": null,
   "id": "5630648b",
   "metadata": {},
   "outputs": [],
   "source": [
    "df[\"sex\"].value_counts(normalize=True)"
   ]
  },
  {
   "cell_type": "code",
   "execution_count": null,
   "id": "97dc17ae",
   "metadata": {},
   "outputs": [],
   "source": [
    "df[\"sex\"].value_counts()"
   ]
  },
  {
   "cell_type": "code",
   "execution_count": null,
   "id": "e1f92019",
   "metadata": {},
   "outputs": [],
   "source": [
    "df[df[\"sex\"] == \"male\"][\"survived\"].value_counts()"
   ]
  },
  {
   "cell_type": "code",
   "execution_count": null,
   "id": "b6282051",
   "metadata": {},
   "outputs": [],
   "source": [
    "df[\"survived\"].mean()"
   ]
  },
  {
   "cell_type": "code",
   "execution_count": null,
   "id": "0344b1b5",
   "metadata": {},
   "outputs": [],
   "source": [
    "df[df[\"sex\"] == \"female\"][\"survived\"].value_counts()"
   ]
  },
  {
   "cell_type": "code",
   "execution_count": null,
   "id": "d2ef2a76",
   "metadata": {},
   "outputs": [],
   "source": [
    "def nt(column): return np.sum(column) / 1309\n",
    "df.groupby(\"sex\")[\"survived\"].agg(nt)"
   ]
  },
  {
   "cell_type": "code",
   "execution_count": null,
   "id": "36182e50",
   "metadata": {},
   "outputs": [],
   "source": [
    "df[\"survived\"].mean()"
   ]
  },
  {
   "cell_type": "code",
   "execution_count": null,
   "id": "21127d6c",
   "metadata": {},
   "outputs": [],
   "source": [
    "df[(df[\"sex\"] == \"male\") & (df[\"survived\"] == 1 )][\"survived\"].value_counts() /len(df)"
   ]
  },
  {
   "cell_type": "code",
   "execution_count": null,
   "id": "c8f5e40b",
   "metadata": {},
   "outputs": [],
   "source": []
  },
  {
   "cell_type": "code",
   "execution_count": null,
   "id": "915950d3",
   "metadata": {},
   "outputs": [],
   "source": []
  }
 ],
 "metadata": {
  "kernelspec": {
   "display_name": "Python 3 (ipykernel)",
   "language": "python",
   "name": "python3"
  },
  "language_info": {
   "codemirror_mode": {
    "name": "ipython",
    "version": 3
   },
   "file_extension": ".py",
   "mimetype": "text/x-python",
   "name": "python",
   "nbconvert_exporter": "python",
   "pygments_lexer": "ipython3",
   "version": "3.9.7"
  }
 },
 "nbformat": 4,
 "nbformat_minor": 5
}
